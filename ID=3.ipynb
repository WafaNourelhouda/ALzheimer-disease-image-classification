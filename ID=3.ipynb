{
 "cells": [
  {
   "cell_type": "markdown",
   "metadata": {},
   "source": [
    "# 🧠 Alzheimer's Disease Classification"
   ]
  },
  {
   "cell_type": "markdown",
   "metadata": {},
   "source": [
    "🕸️ A Convolutional Neural Network (CNN) model is used here to classify brain MRIs into normal, very-mild, mild and moderate Alzheimer classes. The data in total consists of 6400 images."
   ]
  },
  {
   "cell_type": "markdown",
   "metadata": {},
   "source": [
    "Developed as part of a project work for the **UCS 1603 Introduction to Machine Learning** Course. 📖"
   ]
  },
  {
   "cell_type": "markdown",
   "metadata": {},
   "source": [
    "Authors:\n",
    "* Shashanka Venkatesh  - 18 5001 145\n",
    "* Suraj Jain           - 18 5001 177\n",
    "* Vishakan Subramanian - 18 5001 196\n",
    "* Vishnu Krishnan      - 18 5001 200"
   ]
  },
  {
   "cell_type": "markdown",
   "metadata": {},
   "source": [
    "**We recommend the use of a GPU Accelerator to reduce the load on the CPU and to run the notebook faster.**"
   ]
  },
  {
   "cell_type": "markdown",
   "metadata": {
    "jp-MarkdownHeadingCollapsed": true
   },
   "source": [
    "### Importing the necessary libraries"
   ]
  },
  {
   "cell_type": "code",
   "execution_count": 1,
   "metadata": {
    "_cell_guid": "b1076dfc-b9ad-4769-8c92-a6c4dae69d19",
    "_uuid": "8f2839f25d086af736a60e9eeb907d3b93b6e0e5"
   },
   "outputs": [
    {
     "name": "stdout",
     "output_type": "stream",
     "text": [
      "TensorFlow Version: 2.10.0\n"
     ]
    },
    {
     "name": "stderr",
     "output_type": "stream",
     "text": [
      "C:\\Users\\ghlis\\anaconda3.1\\envs\\deeplearning\\lib\\site-packages\\tensorflow_addons\\utils\\tfa_eol_msg.py:23: UserWarning: \n",
      "\n",
      "TensorFlow Addons (TFA) has ended development and introduction of new features.\n",
      "TFA has entered a minimal maintenance and release mode until a planned end of life in May 2024.\n",
      "Please modify downstream libraries to take dependencies from other repositories in our TensorFlow community (e.g. Keras, Keras-CV, and Keras-NLP). \n",
      "\n",
      "For more information see: https://github.com/tensorflow/addons/issues/2807 \n",
      "\n",
      "  warnings.warn(\n",
      "C:\\Users\\ghlis\\anaconda3.1\\envs\\deeplearning\\lib\\site-packages\\tensorflow_addons\\utils\\ensure_tf_install.py:53: UserWarning: Tensorflow Addons supports using Python ops for all Tensorflow versions above or equal to 2.11.0 and strictly below 2.14.0 (nightly versions are not supported). \n",
      " The versions of TensorFlow you are currently using is 2.10.0 and is not supported. \n",
      "Some things might work, some things might not.\n",
      "If you were to encounter a bug, do not file an issue.\n",
      "If you want to make sure you're using a tested and supported configuration, either change the TensorFlow version or the TensorFlow Addons's version. \n",
      "You can find the compatibility matrix in TensorFlow Addon's readme:\n",
      "https://github.com/tensorflow/addons\n",
      "  warnings.warn(\n"
     ]
    }
   ],
   "source": [
    "import numpy as np\n",
    "import pandas as pd\n",
    "import seaborn as sns\n",
    "import tensorflow as tf\n",
    "import matplotlib.pyplot as plt\n",
    "from tensorflow.keras.preprocessing.image import ImageDataGenerator as IDG\n",
    "\n",
    "\n",
    "import os\n",
    "from distutils.dir_util import copy_tree, remove_tree\n",
    "\n",
    "from PIL import Image\n",
    "from random import randint\n",
    "\n",
    "from imblearn.over_sampling import SMOTE\n",
    "from sklearn.model_selection import train_test_split\n",
    "from sklearn.metrics import matthews_corrcoef as MCC\n",
    "from sklearn.metrics import balanced_accuracy_score as BAS\n",
    "from sklearn.metrics import classification_report, confusion_matrix\n",
    "\n",
    "import tensorflow_addons as tfa\n",
    "from keras.utils.vis_utils import plot_model\n",
    "from tensorflow.keras import Sequential, Input\n",
    "from tensorflow.keras.layers import Dense, Dropout\n",
    "from tensorflow.keras.layers import Conv2D, Flatten\n",
    "from tensorflow.keras.callbacks import EarlyStopping\n",
    "from tensorflow.keras.applications.inception_v3 import InceptionV3\n",
    "from tensorflow.keras.preprocessing.image import ImageDataGenerator as IDG\n",
    "from tensorflow.keras.layers import SeparableConv2D, BatchNormalization, MaxPool2D\n",
    "\n",
    "\n",
    "\n",
    "print(\"TensorFlow Version:\", tf.__version__)"
   ]
  },
  {
   "cell_type": "markdown",
   "metadata": {},
   "source": [
    "### Data Pre-Processing"
   ]
  },
  {
   "cell_type": "code",
   "execution_count": 2,
   "metadata": {},
   "outputs": [
    {
     "name": "stdout",
     "output_type": "stream",
     "text": [
      "Working Directory Contents: ['MildDemented', 'ModerateDemented', 'NonDemented', 'VeryMildDemented']\n"
     ]
    }
   ],
   "source": [
    "base_dir = 'AD_data/3-splitted_ADNI(6400)/Alzheimer_s Dataset/'\n",
    "root_dir = \"./\"\n",
    "test_dir = base_dir + \"test/\"\n",
    "train_dir = base_dir + \"train/\"\n",
    "work_dir = root_dir + \"dataset/\"\n",
    "\n",
    "if os.path.exists(work_dir):\n",
    "    remove_tree(work_dir)\n",
    "    \n",
    "\n",
    "os.mkdir(work_dir)\n",
    "copy_tree(train_dir, work_dir)\n",
    "copy_tree(test_dir, work_dir)\n",
    "print(\"Working Directory Contents:\", os.listdir(work_dir))"
   ]
  },
  {
   "cell_type": "code",
   "execution_count": 3,
   "metadata": {},
   "outputs": [],
   "source": [
    "WORK_DIR = './dataset/'\n",
    "\n",
    "CLASSES = [ 'NonDemented',\n",
    "            'VeryMildDemented',\n",
    "            'MildDemented',\n",
    "            'ModerateDemented']\n",
    "\n",
    "IMG_SIZE = 176\n",
    "IMAGE_SIZE = [176, 176]\n",
    "DIM = (IMG_SIZE, IMG_SIZE)"
   ]
  },
  {
   "cell_type": "code",
   "execution_count": 4,
   "metadata": {},
   "outputs": [
    {
     "name": "stdout",
     "output_type": "stream",
     "text": [
      "Found 6400 images belonging to 4 classes.\n"
     ]
    }
   ],
   "source": [
    "#Performing Image Augmentation to have more data samples\n",
    "\n",
    "ZOOM = [.99, 1.01]\n",
    "BRIGHT_RANGE = [0.8, 1.2]\n",
    "HORZ_FLIP = True\n",
    "FILL_MODE = \"constant\"\n",
    "DATA_FORMAT = \"channels_last\"\n",
    "\n",
    "work_dr = IDG(rescale = 1./255, brightness_range=BRIGHT_RANGE, zoom_range=ZOOM, data_format=DATA_FORMAT, fill_mode=FILL_MODE, horizontal_flip=HORZ_FLIP)\n",
    "\n",
    "train_data_gen = work_dr.flow_from_directory(directory=WORK_DIR, target_size=DIM, batch_size=1000, shuffle=False)"
   ]
  },
  {
   "cell_type": "code",
   "execution_count": 5,
   "metadata": {},
   "outputs": [],
   "source": [
    "def show_images(generator,y_pred=None):\n",
    "    \"\"\"\n",
    "    Input: An image generator,predicted labels (optional)\n",
    "    Output: Displays a grid of 9 images with lables\n",
    "    \"\"\"\n",
    "    \n",
    "    # get image lables\n",
    "    labels =dict(zip([0,1,2,3], CLASSES))\n",
    "    \n",
    "    # get a batch of images\n",
    "    x,y = generator.next()\n",
    "    \n",
    "    # display a grid of 9 images\n",
    "    plt.figure(figsize=(10, 10))\n",
    "    if y_pred is None:\n",
    "        for i in range(9):\n",
    "            ax = plt.subplot(3, 3, i + 1)\n",
    "            idx = randint(0, 6400)\n",
    "            plt.imshow(x[idx])\n",
    "            plt.axis(\"off\")\n",
    "            plt.title(\"Class:{}\".format(labels[np.argmax(y[idx])]))\n",
    "                                                     \n",
    "    else:\n",
    "        for i in range(9):\n",
    "            ax = plt.subplot(3, 3, i + 1)\n",
    "            plt.imshow(x[i])\n",
    "            plt.axis(\"off\")\n",
    "            plt.title(\"Actual:{} \\nPredicted:{}\".format(labels[np.argmax(y[i])],labels[y_pred[i]]))\n",
    "    "
   ]
  },
  {
   "cell_type": "code",
   "execution_count": 6,
   "metadata": {},
   "outputs": [],
   "source": [
    "#Retrieving the data from the ImageDataGenerator iterator\n",
    "\n",
    "train_data, train_labels = train_data_gen.next()"
   ]
  },
  {
   "cell_type": "code",
   "execution_count": 7,
   "metadata": {},
   "outputs": [
    {
     "name": "stdout",
     "output_type": "stream",
     "text": [
      "(1000, 176, 176, 3) (1000, 4)\n"
     ]
    }
   ],
   "source": [
    "#Getting to know the dimensions of our dataset\n",
    "\n",
    "print(train_data.shape, train_labels.shape)"
   ]
  },
  {
   "cell_type": "code",
   "execution_count": 37,
   "metadata": {},
   "outputs": [
    {
     "name": "stdout",
     "output_type": "stream",
     "text": [
      "(738, 176, 176, 3) (738, 3)\n"
     ]
    }
   ],
   "source": [
    "#Performing over-sampling of the data, since the classes are imbalanced\n",
    "\n",
    "sm = SMOTE(random_state=42)\n",
    "\n",
    "train_data, train_labels = sm.fit_resample(train_data.reshape(-1, IMG_SIZE * IMG_SIZE * 3), train_labels)\n",
    "\n",
    "train_data = train_data.reshape(-1, IMG_SIZE, IMG_SIZE, 3)\n",
    "\n",
    "print(train_data.shape, train_labels.shape)"
   ]
  },
  {
   "cell_type": "code",
   "execution_count": 8,
   "metadata": {},
   "outputs": [],
   "source": [
    "#Splitting the data into train, test, and validation sets\n",
    "\n",
    "train_data, test_data, train_labels, test_labels = train_test_split(train_data, train_labels, test_size = 0.2, random_state=42)\n",
    "train_data, val_data, train_labels, val_labels = train_test_split(train_data, train_labels, test_size = 0.2, random_state=42)"
   ]
  },
  {
   "cell_type": "markdown",
   "metadata": {},
   "source": [
    "### Constructing a Convolutional Neural Network Architecture"
   ]
  },
  {
   "cell_type": "code",
   "execution_count": 9,
   "metadata": {},
   "outputs": [],
   "source": [
    "def conv_block(filters, act='relu'):\n",
    "    \"\"\"Defining a Convolutional NN block for a Sequential CNN model. \"\"\"\n",
    "    \n",
    "    block = Sequential()\n",
    "    block.add(Conv2D(filters, 3, activation=act, padding='same'))\n",
    "    block.add(Conv2D(filters, 3, activation=act, padding='same'))\n",
    "    block.add(BatchNormalization())\n",
    "    block.add(MaxPool2D())\n",
    "    \n",
    "    return block"
   ]
  },
  {
   "cell_type": "code",
   "execution_count": 10,
   "metadata": {},
   "outputs": [],
   "source": [
    "def dense_block(units, dropout_rate, act='relu'):\n",
    "    \"\"\"Defining a Dense NN block for a Sequential CNN model. \"\"\"\n",
    "    \n",
    "    block = Sequential()\n",
    "    block.add(Dense(units, activation=act))\n",
    "    block.add(BatchNormalization())\n",
    "    block.add(Dropout(dropout_rate))\n",
    "    \n",
    "    return block"
   ]
  },
  {
   "cell_type": "code",
   "execution_count": 11,
   "metadata": {},
   "outputs": [],
   "source": [
    "def construct_model(act='relu'):\n",
    "    \"\"\"Constructing a Sequential CNN architecture for performing the classification task. \"\"\"\n",
    "    \n",
    "    model = Sequential([\n",
    "        Input(shape=(*IMAGE_SIZE, 3)),\n",
    "        Conv2D(16, 3, activation=act, padding='same'),\n",
    "        Conv2D(16, 3, activation=act, padding='same'),\n",
    "        MaxPool2D(),\n",
    "        conv_block(32),\n",
    "        conv_block(64),\n",
    "        conv_block(128),\n",
    "        Dropout(0.2),\n",
    "        conv_block(256),\n",
    "        Dropout(0.2),\n",
    "        Flatten(),\n",
    "        dense_block(512, 0.7),\n",
    "        dense_block(128, 0.5),\n",
    "        dense_block(64, 0.3),\n",
    "        Dense(4, activation='softmax')        \n",
    "    ], name = \"cnn_model\")\n",
    "\n",
    "    return model"
   ]
  },
  {
   "cell_type": "code",
   "execution_count": 12,
   "metadata": {},
   "outputs": [],
   "source": [
    "#Defining a custom callback function to stop training our model when accuracy goes above 99%\n",
    "\n",
    "class MyCallback(tf.keras.callbacks.Callback):\n",
    "    def on_epoch_end(self, epoch, logs={}):\n",
    "        if logs.get('val_acc') > 0.99:\n",
    "            print(\"\\nReached accuracy threshold! Terminating training.\")\n",
    "            self.model.stop_training = True\n",
    "            \n",
    "my_callback = MyCallback()\n",
    "\n",
    "#EarlyStopping callback to make sure model is always learning\n",
    "early_stopping = EarlyStopping(monitor='val_loss', patience=2)"
   ]
  },
  {
   "cell_type": "code",
   "execution_count": 13,
   "metadata": {},
   "outputs": [
    {
     "name": "stdout",
     "output_type": "stream",
     "text": [
      "Model: \"cnn_model\"\n",
      "_________________________________________________________________\n",
      " Layer (type)                Output Shape              Param #   \n",
      "=================================================================\n",
      " conv2d (Conv2D)             (None, 176, 176, 16)      448       \n",
      "                                                                 \n",
      " conv2d_1 (Conv2D)           (None, 176, 176, 16)      2320      \n",
      "                                                                 \n",
      " max_pooling2d (MaxPooling2D  (None, 88, 88, 16)       0         \n",
      " )                                                               \n",
      "                                                                 \n",
      " sequential (Sequential)     (None, 44, 44, 32)        14016     \n",
      "                                                                 \n",
      " sequential_1 (Sequential)   (None, 22, 22, 64)        55680     \n",
      "                                                                 \n",
      " sequential_2 (Sequential)   (None, 11, 11, 128)       221952    \n",
      "                                                                 \n",
      " dropout (Dropout)           (None, 11, 11, 128)       0         \n",
      "                                                                 \n",
      " sequential_3 (Sequential)   (None, 5, 5, 256)         886272    \n",
      "                                                                 \n",
      " dropout_1 (Dropout)         (None, 5, 5, 256)         0         \n",
      "                                                                 \n",
      " flatten (Flatten)           (None, 6400)              0         \n",
      "                                                                 \n",
      " sequential_4 (Sequential)   (None, 512)               3279360   \n",
      "                                                                 \n",
      " sequential_5 (Sequential)   (None, 128)               66176     \n",
      "                                                                 \n",
      " sequential_6 (Sequential)   (None, 64)                8512      \n",
      "                                                                 \n",
      " dense_3 (Dense)             (None, 4)                 260       \n",
      "                                                                 \n",
      "=================================================================\n",
      "Total params: 4,534,996\n",
      "Trainable params: 4,532,628\n",
      "Non-trainable params: 2,368\n",
      "_________________________________________________________________\n"
     ]
    }
   ],
   "source": [
    "#Defining other parameters for our CNN model\n",
    "\n",
    "model = construct_model()\n",
    "\n",
    "METRICS = [tf.keras.metrics.CategoricalAccuracy(name='acc'),\n",
    "           tf.keras.metrics.AUC(name='auc'), \n",
    "           tfa.metrics.F1Score(num_classes=4)]\n",
    "\n",
    "CALLBACKS = [my_callback]\n",
    "    \n",
    "model.compile(optimizer='adam',\n",
    "              loss='categorical_crossentropy',\n",
    "              metrics=METRICS)\n",
    "\n",
    "\n",
    "model.summary()"
   ]
  },
  {
   "cell_type": "markdown",
   "metadata": {},
   "source": [
    "### Training & Testing the Model"
   ]
  },
  {
   "cell_type": "code",
   "execution_count": 14,
   "metadata": {},
   "outputs": [
    {
     "name": "stdout",
     "output_type": "stream",
     "text": [
      "Epoch 1/100\n",
      " 6/20 [========>.....................] - ETA: 1s - loss: 2.1701 - acc: 0.2500 - auc: 0.5041 - f1_score: 0.1490WARNING:tensorflow:Callback method `on_train_batch_end` is slow compared to the batch time (batch time: 0.0430s vs `on_train_batch_end` time: 0.0444s). Check your callbacks.\n",
      "20/20 [==============================] - 4s 109ms/step - loss: 2.0260 - acc: 0.2656 - auc: 0.5065 - f1_score: 0.1447 - val_loss: 1.3501 - val_acc: 0.1688 - val_auc: 0.6029 - val_f1_score: 0.0874\n",
      "Epoch 2/100\n",
      "20/20 [==============================] - 1s 69ms/step - loss: 1.7089 - acc: 0.3234 - auc: 0.5777 - f1_score: 0.1679 - val_loss: 1.3587 - val_acc: 0.0563 - val_auc: 0.6038 - val_f1_score: 0.0706\n",
      "Epoch 3/100\n",
      "20/20 [==============================] - 1s 63ms/step - loss: 1.4720 - acc: 0.4219 - auc: 0.6517 - f1_score: 0.2106 - val_loss: 0.7858 - val_acc: 0.9062 - val_auc: 0.9404 - val_f1_score: 0.2377\n",
      "Epoch 4/100\n",
      "20/20 [==============================] - 1s 64ms/step - loss: 1.3433 - acc: 0.4734 - auc: 0.6975 - f1_score: 0.2276 - val_loss: 0.5634 - val_acc: 0.9062 - val_auc: 0.9427 - val_f1_score: 0.2377\n",
      "Epoch 5/100\n",
      "20/20 [==============================] - 1s 63ms/step - loss: 1.1753 - acc: 0.5250 - auc: 0.7636 - f1_score: 0.2404 - val_loss: 0.6924 - val_acc: 0.9062 - val_auc: 0.9449 - val_f1_score: 0.2377\n",
      "Epoch 6/100\n",
      "20/20 [==============================] - 1s 64ms/step - loss: 1.0458 - acc: 0.6016 - auc: 0.8134 - f1_score: 0.2152 - val_loss: 0.6773 - val_acc: 0.9062 - val_auc: 0.9157 - val_f1_score: 0.2377\n",
      "Epoch 7/100\n",
      "20/20 [==============================] - 1s 65ms/step - loss: 0.9275 - acc: 0.6594 - auc: 0.8567 - f1_score: 0.2245 - val_loss: 1.3081 - val_acc: 0.2438 - val_auc: 0.6539 - val_f1_score: 0.1037\n",
      "Epoch 8/100\n",
      "20/20 [==============================] - 1s 65ms/step - loss: 0.8530 - acc: 0.7266 - auc: 0.8777 - f1_score: 0.2448 - val_loss: 0.7180 - val_acc: 0.9062 - val_auc: 0.9296 - val_f1_score: 0.2377\n",
      "Epoch 9/100\n",
      "20/20 [==============================] - 1s 67ms/step - loss: 0.8061 - acc: 0.7484 - auc: 0.8900 - f1_score: 0.2223 - val_loss: 0.5910 - val_acc: 0.9062 - val_auc: 0.9194 - val_f1_score: 0.2377\n",
      "Epoch 10/100\n",
      "20/20 [==============================] - 1s 64ms/step - loss: 0.7537 - acc: 0.7688 - auc: 0.9048 - f1_score: 0.2251 - val_loss: 0.5813 - val_acc: 0.9062 - val_auc: 0.9558 - val_f1_score: 0.2377\n",
      "Epoch 11/100\n",
      "20/20 [==============================] - 1s 63ms/step - loss: 0.6530 - acc: 0.8391 - auc: 0.9234 - f1_score: 0.2613 - val_loss: 0.4330 - val_acc: 0.9062 - val_auc: 0.9408 - val_f1_score: 0.2377\n",
      "Epoch 12/100\n",
      "20/20 [==============================] - 1s 64ms/step - loss: 0.6170 - acc: 0.8422 - auc: 0.9303 - f1_score: 0.2373 - val_loss: 0.4674 - val_acc: 0.9062 - val_auc: 0.9395 - val_f1_score: 0.2377\n",
      "Epoch 13/100\n",
      "20/20 [==============================] - 1s 69ms/step - loss: 0.6168 - acc: 0.8500 - auc: 0.9276 - f1_score: 0.2468 - val_loss: 0.4673 - val_acc: 0.9062 - val_auc: 0.9485 - val_f1_score: 0.2377\n",
      "Epoch 14/100\n",
      "20/20 [==============================] - 1s 63ms/step - loss: 0.5772 - acc: 0.8547 - auc: 0.9298 - f1_score: 0.2455 - val_loss: 0.6050 - val_acc: 0.9062 - val_auc: 0.9487 - val_f1_score: 0.2377\n",
      "Epoch 15/100\n",
      "20/20 [==============================] - 1s 64ms/step - loss: 0.5046 - acc: 0.8734 - auc: 0.9462 - f1_score: 0.2972 - val_loss: 0.5347 - val_acc: 0.9062 - val_auc: 0.9461 - val_f1_score: 0.2377\n",
      "Epoch 16/100\n",
      "20/20 [==============================] - 1s 64ms/step - loss: 0.5245 - acc: 0.8734 - auc: 0.9386 - f1_score: 0.2335 - val_loss: 0.4493 - val_acc: 0.9062 - val_auc: 0.9482 - val_f1_score: 0.2377\n",
      "Epoch 17/100\n",
      "20/20 [==============================] - 1s 63ms/step - loss: 0.5436 - acc: 0.8750 - auc: 0.9336 - f1_score: 0.2337 - val_loss: 0.4936 - val_acc: 0.9062 - val_auc: 0.9434 - val_f1_score: 0.2377\n",
      "Epoch 18/100\n",
      "20/20 [==============================] - 1s 67ms/step - loss: 0.5477 - acc: 0.8672 - auc: 0.9358 - f1_score: 0.2322 - val_loss: 0.5437 - val_acc: 0.9062 - val_auc: 0.9472 - val_f1_score: 0.2377\n",
      "Epoch 19/100\n",
      "20/20 [==============================] - 1s 66ms/step - loss: 0.4906 - acc: 0.8813 - auc: 0.9454 - f1_score: 0.2344 - val_loss: 0.5228 - val_acc: 0.9062 - val_auc: 0.9462 - val_f1_score: 0.2377\n",
      "Epoch 20/100\n",
      "20/20 [==============================] - 1s 67ms/step - loss: 0.4819 - acc: 0.8844 - auc: 0.9435 - f1_score: 0.2347 - val_loss: 0.5330 - val_acc: 0.9062 - val_auc: 0.9492 - val_f1_score: 0.2377\n",
      "Epoch 21/100\n",
      "20/20 [==============================] - 1s 63ms/step - loss: 0.5013 - acc: 0.8844 - auc: 0.9391 - f1_score: 0.2347 - val_loss: 0.5230 - val_acc: 0.9062 - val_auc: 0.9469 - val_f1_score: 0.2377\n",
      "Epoch 22/100\n",
      "20/20 [==============================] - 1s 65ms/step - loss: 0.4640 - acc: 0.8859 - auc: 0.9473 - f1_score: 0.2529 - val_loss: 0.4636 - val_acc: 0.9062 - val_auc: 0.9491 - val_f1_score: 0.2377\n",
      "Epoch 23/100\n",
      "20/20 [==============================] - 1s 63ms/step - loss: 0.4917 - acc: 0.8875 - auc: 0.9413 - f1_score: 0.2351 - val_loss: 0.4986 - val_acc: 0.9062 - val_auc: 0.9476 - val_f1_score: 0.2377\n",
      "Epoch 24/100\n",
      "20/20 [==============================] - 1s 67ms/step - loss: 0.4792 - acc: 0.8781 - auc: 0.9462 - f1_score: 0.2338 - val_loss: 0.4840 - val_acc: 0.9062 - val_auc: 0.9504 - val_f1_score: 0.2377\n",
      "Epoch 25/100\n",
      "20/20 [==============================] - 1s 64ms/step - loss: 0.4937 - acc: 0.8813 - auc: 0.9470 - f1_score: 0.2342 - val_loss: 0.4536 - val_acc: 0.9062 - val_auc: 0.9509 - val_f1_score: 0.2377\n",
      "Epoch 26/100\n",
      "20/20 [==============================] - 1s 69ms/step - loss: 0.4782 - acc: 0.8781 - auc: 0.9447 - f1_score: 0.2340 - val_loss: 0.4072 - val_acc: 0.9062 - val_auc: 0.9587 - val_f1_score: 0.2377\n",
      "Epoch 27/100\n",
      "20/20 [==============================] - 1s 63ms/step - loss: 0.4739 - acc: 0.8859 - auc: 0.9463 - f1_score: 0.2351 - val_loss: 0.4017 - val_acc: 0.9062 - val_auc: 0.9575 - val_f1_score: 0.2377\n",
      "Epoch 28/100\n",
      "20/20 [==============================] - 1s 64ms/step - loss: 0.4454 - acc: 0.8859 - auc: 0.9551 - f1_score: 0.2457 - val_loss: 0.3919 - val_acc: 0.9062 - val_auc: 0.9596 - val_f1_score: 0.2377\n",
      "Epoch 29/100\n",
      "20/20 [==============================] - 1s 67ms/step - loss: 0.4619 - acc: 0.8875 - auc: 0.9477 - f1_score: 0.2351 - val_loss: 0.3949 - val_acc: 0.9062 - val_auc: 0.9600 - val_f1_score: 0.2377\n",
      "Epoch 30/100\n",
      "20/20 [==============================] - 1s 64ms/step - loss: 0.4499 - acc: 0.8859 - auc: 0.9542 - f1_score: 0.2514 - val_loss: 0.4077 - val_acc: 0.9062 - val_auc: 0.9578 - val_f1_score: 0.2377\n",
      "Epoch 31/100\n",
      "20/20 [==============================] - 1s 67ms/step - loss: 0.4757 - acc: 0.8875 - auc: 0.9478 - f1_score: 0.2351 - val_loss: 0.4265 - val_acc: 0.9062 - val_auc: 0.9577 - val_f1_score: 0.2377\n",
      "Epoch 32/100\n",
      "20/20 [==============================] - 1s 64ms/step - loss: 0.4179 - acc: 0.8922 - auc: 0.9604 - f1_score: 0.2358 - val_loss: 0.5072 - val_acc: 0.9062 - val_auc: 0.9513 - val_f1_score: 0.2377\n",
      "Epoch 33/100\n",
      "20/20 [==============================] - 1s 64ms/step - loss: 0.4302 - acc: 0.8938 - auc: 0.9549 - f1_score: 0.2360 - val_loss: 0.4567 - val_acc: 0.9062 - val_auc: 0.9588 - val_f1_score: 0.2377\n",
      "Epoch 34/100\n",
      "20/20 [==============================] - 1s 64ms/step - loss: 0.3994 - acc: 0.8906 - auc: 0.9643 - f1_score: 0.2522 - val_loss: 0.5036 - val_acc: 0.9062 - val_auc: 0.9471 - val_f1_score: 0.2377\n",
      "Epoch 35/100\n",
      "20/20 [==============================] - 1s 62ms/step - loss: 0.4303 - acc: 0.8906 - auc: 0.9575 - f1_score: 0.2677 - val_loss: 0.3929 - val_acc: 0.9062 - val_auc: 0.9640 - val_f1_score: 0.2377\n",
      "Epoch 36/100\n",
      "20/20 [==============================] - 1s 63ms/step - loss: 0.4162 - acc: 0.8906 - auc: 0.9597 - f1_score: 0.2357 - val_loss: 0.4677 - val_acc: 0.8625 - val_auc: 0.9555 - val_f1_score: 0.3070\n",
      "Epoch 37/100\n",
      "20/20 [==============================] - 1s 64ms/step - loss: 0.4115 - acc: 0.8953 - auc: 0.9601 - f1_score: 0.2547 - val_loss: 0.4058 - val_acc: 0.9187 - val_auc: 0.9611 - val_f1_score: 0.3643\n",
      "Epoch 38/100\n",
      "20/20 [==============================] - 1s 64ms/step - loss: 0.3985 - acc: 0.8922 - auc: 0.9651 - f1_score: 0.2702 - val_loss: 0.3909 - val_acc: 0.9062 - val_auc: 0.9672 - val_f1_score: 0.2377\n",
      "Epoch 39/100\n",
      "20/20 [==============================] - 1s 67ms/step - loss: 0.3834 - acc: 0.8906 - auc: 0.9670 - f1_score: 0.2910 - val_loss: 0.4647 - val_acc: 0.9062 - val_auc: 0.9565 - val_f1_score: 0.2377\n",
      "Epoch 40/100\n",
      "20/20 [==============================] - 1s 63ms/step - loss: 0.3855 - acc: 0.8906 - auc: 0.9662 - f1_score: 0.2887 - val_loss: 0.4296 - val_acc: 0.9062 - val_auc: 0.9625 - val_f1_score: 0.2377\n",
      "Epoch 41/100\n",
      "20/20 [==============================] - 1s 64ms/step - loss: 0.3913 - acc: 0.8844 - auc: 0.9665 - f1_score: 0.2624 - val_loss: 0.3498 - val_acc: 0.9062 - val_auc: 0.9679 - val_f1_score: 0.2377\n",
      "Epoch 42/100\n",
      "20/20 [==============================] - 1s 63ms/step - loss: 0.3999 - acc: 0.8844 - auc: 0.9639 - f1_score: 0.3029 - val_loss: 0.4107 - val_acc: 0.9062 - val_auc: 0.9593 - val_f1_score: 0.2377\n",
      "Epoch 43/100\n",
      "20/20 [==============================] - 1s 65ms/step - loss: 0.3614 - acc: 0.8984 - auc: 0.9695 - f1_score: 0.2992 - val_loss: 0.5377 - val_acc: 0.9062 - val_auc: 0.9480 - val_f1_score: 0.2377\n",
      "Epoch 44/100\n",
      "20/20 [==============================] - 1s 69ms/step - loss: 0.3932 - acc: 0.8906 - auc: 0.9658 - f1_score: 0.2999 - val_loss: 0.7106 - val_acc: 0.9062 - val_auc: 0.9452 - val_f1_score: 0.2377\n",
      "Epoch 45/100\n",
      "20/20 [==============================] - 1s 65ms/step - loss: 0.3584 - acc: 0.8953 - auc: 0.9714 - f1_score: 0.3173 - val_loss: 0.4092 - val_acc: 0.9125 - val_auc: 0.9569 - val_f1_score: 0.3099\n",
      "Epoch 46/100\n",
      "20/20 [==============================] - 1s 64ms/step - loss: 0.3749 - acc: 0.8859 - auc: 0.9699 - f1_score: 0.2840 - val_loss: 0.4401 - val_acc: 0.9125 - val_auc: 0.9481 - val_f1_score: 0.3495\n",
      "Epoch 47/100\n",
      "20/20 [==============================] - 1s 64ms/step - loss: 0.3810 - acc: 0.8828 - auc: 0.9694 - f1_score: 0.3011 - val_loss: 0.4399 - val_acc: 0.9062 - val_auc: 0.9528 - val_f1_score: 0.2377\n",
      "Epoch 48/100\n",
      "20/20 [==============================] - 1s 69ms/step - loss: 0.3619 - acc: 0.9000 - auc: 0.9698 - f1_score: 0.3315 - val_loss: 0.6336 - val_acc: 0.8938 - val_auc: 0.9387 - val_f1_score: 0.2360\n",
      "Epoch 49/100\n",
      "20/20 [==============================] - 1s 69ms/step - loss: 0.3562 - acc: 0.8984 - auc: 0.9711 - f1_score: 0.3479 - val_loss: 0.6396 - val_acc: 0.9062 - val_auc: 0.9338 - val_f1_score: 0.2377\n",
      "Epoch 50/100\n",
      "20/20 [==============================] - 1s 64ms/step - loss: 0.3555 - acc: 0.8984 - auc: 0.9708 - f1_score: 0.3366 - val_loss: 0.4503 - val_acc: 0.9062 - val_auc: 0.9499 - val_f1_score: 0.2377\n",
      "Epoch 51/100\n",
      "20/20 [==============================] - 1s 63ms/step - loss: 0.3008 - acc: 0.9156 - auc: 0.9799 - f1_score: 0.4205 - val_loss: 0.5073 - val_acc: 0.8813 - val_auc: 0.9478 - val_f1_score: 0.2758\n",
      "Epoch 52/100\n",
      "20/20 [==============================] - 1s 65ms/step - loss: 0.3512 - acc: 0.8875 - auc: 0.9728 - f1_score: 0.3183 - val_loss: 0.5576 - val_acc: 0.8500 - val_auc: 0.9503 - val_f1_score: 0.3161\n",
      "Epoch 53/100\n",
      "20/20 [==============================] - 1s 63ms/step - loss: 0.3316 - acc: 0.8984 - auc: 0.9767 - f1_score: 0.3640 - val_loss: 0.4005 - val_acc: 0.8938 - val_auc: 0.9620 - val_f1_score: 0.3191\n",
      "Epoch 54/100\n",
      "20/20 [==============================] - 1s 63ms/step - loss: 0.3361 - acc: 0.9109 - auc: 0.9723 - f1_score: 0.4009 - val_loss: 0.3482 - val_acc: 0.9125 - val_auc: 0.9692 - val_f1_score: 0.3099\n",
      "Epoch 55/100\n",
      "20/20 [==============================] - 1s 65ms/step - loss: 0.3225 - acc: 0.9031 - auc: 0.9761 - f1_score: 0.3910 - val_loss: 0.6572 - val_acc: 0.9062 - val_auc: 0.9369 - val_f1_score: 0.2377\n",
      "Epoch 56/100\n",
      "20/20 [==============================] - 1s 68ms/step - loss: 0.3356 - acc: 0.9047 - auc: 0.9730 - f1_score: 0.3817 - val_loss: 1.0147 - val_acc: 0.9062 - val_auc: 0.9390 - val_f1_score: 0.2377\n",
      "Epoch 57/100\n",
      "20/20 [==============================] - 1s 66ms/step - loss: 0.3575 - acc: 0.8953 - auc: 0.9710 - f1_score: 0.3057 - val_loss: 1.1797 - val_acc: 0.6562 - val_auc: 0.8493 - val_f1_score: 0.2473\n",
      "Epoch 58/100\n",
      "20/20 [==============================] - 1s 69ms/step - loss: 0.3426 - acc: 0.8969 - auc: 0.9748 - f1_score: 0.3433 - val_loss: 1.0295 - val_acc: 0.7625 - val_auc: 0.8708 - val_f1_score: 0.2870\n",
      "Epoch 59/100\n",
      "20/20 [==============================] - 1s 64ms/step - loss: 0.3486 - acc: 0.8984 - auc: 0.9728 - f1_score: 0.3415 - val_loss: 0.8967 - val_acc: 0.7625 - val_auc: 0.8790 - val_f1_score: 0.2776\n",
      "Epoch 60/100\n",
      "20/20 [==============================] - 1s 65ms/step - loss: 0.3042 - acc: 0.9141 - auc: 0.9809 - f1_score: 0.4091 - val_loss: 0.3417 - val_acc: 0.9000 - val_auc: 0.9705 - val_f1_score: 0.3276\n",
      "Epoch 61/100\n",
      "20/20 [==============================] - 1s 69ms/step - loss: 0.3141 - acc: 0.9031 - auc: 0.9782 - f1_score: 0.3728 - val_loss: 0.3829 - val_acc: 0.9125 - val_auc: 0.9614 - val_f1_score: 0.3099\n",
      "Epoch 62/100\n",
      "20/20 [==============================] - 1s 65ms/step - loss: 0.2880 - acc: 0.9141 - auc: 0.9821 - f1_score: 0.3982 - val_loss: 0.3466 - val_acc: 0.9062 - val_auc: 0.9707 - val_f1_score: 0.3625\n",
      "Epoch 63/100\n",
      "20/20 [==============================] - 1s 63ms/step - loss: 0.2885 - acc: 0.9062 - auc: 0.9837 - f1_score: 0.3853 - val_loss: 0.3999 - val_acc: 0.9062 - val_auc: 0.9596 - val_f1_score: 0.2377\n",
      "Epoch 64/100\n",
      "20/20 [==============================] - 1s 64ms/step - loss: 0.2971 - acc: 0.9109 - auc: 0.9822 - f1_score: 0.4011 - val_loss: 0.3781 - val_acc: 0.9000 - val_auc: 0.9677 - val_f1_score: 0.3276\n",
      "Epoch 65/100\n",
      "20/20 [==============================] - 1s 69ms/step - loss: 0.2932 - acc: 0.9109 - auc: 0.9824 - f1_score: 0.3784 - val_loss: 0.3869 - val_acc: 0.9125 - val_auc: 0.9627 - val_f1_score: 0.3747\n",
      "Epoch 66/100\n",
      "20/20 [==============================] - 1s 65ms/step - loss: 0.2792 - acc: 0.9125 - auc: 0.9832 - f1_score: 0.4023 - val_loss: 0.6874 - val_acc: 0.9062 - val_auc: 0.9457 - val_f1_score: 0.2377\n",
      "Epoch 67/100\n",
      "20/20 [==============================] - 1s 65ms/step - loss: 0.2684 - acc: 0.9172 - auc: 0.9856 - f1_score: 0.4323 - val_loss: 0.4311 - val_acc: 0.8813 - val_auc: 0.9574 - val_f1_score: 0.3449\n",
      "Epoch 68/100\n",
      "20/20 [==============================] - 1s 66ms/step - loss: 0.2816 - acc: 0.9094 - auc: 0.9833 - f1_score: 0.4080 - val_loss: 6.2684 - val_acc: 0.0500 - val_auc: 0.4114 - val_f1_score: 0.0251\n",
      "Epoch 69/100\n",
      "20/20 [==============================] - 1s 65ms/step - loss: 0.2903 - acc: 0.9047 - auc: 0.9829 - f1_score: 0.3880 - val_loss: 1.3586 - val_acc: 0.6625 - val_auc: 0.8446 - val_f1_score: 0.2196\n",
      "Epoch 70/100\n",
      "20/20 [==============================] - 1s 66ms/step - loss: 0.3214 - acc: 0.8953 - auc: 0.9789 - f1_score: 0.3519 - val_loss: 0.4268 - val_acc: 0.8875 - val_auc: 0.9619 - val_f1_score: 0.3597\n",
      "Epoch 71/100\n",
      "20/20 [==============================] - 1s 67ms/step - loss: 0.2543 - acc: 0.9141 - auc: 0.9874 - f1_score: 0.4025 - val_loss: 0.3394 - val_acc: 0.8875 - val_auc: 0.9789 - val_f1_score: 0.2351\n",
      "Epoch 72/100\n",
      "20/20 [==============================] - 1s 62ms/step - loss: 0.2402 - acc: 0.9203 - auc: 0.9890 - f1_score: 0.4717 - val_loss: 0.7294 - val_acc: 0.7563 - val_auc: 0.9093 - val_f1_score: 0.3152\n",
      "Epoch 73/100\n",
      "20/20 [==============================] - 1s 63ms/step - loss: 0.2510 - acc: 0.9125 - auc: 0.9873 - f1_score: 0.4568 - val_loss: 1.4927 - val_acc: 0.6500 - val_auc: 0.8623 - val_f1_score: 0.2453\n",
      "Epoch 74/100\n",
      "20/20 [==============================] - 1s 63ms/step - loss: 0.2296 - acc: 0.9234 - auc: 0.9908 - f1_score: 0.4835 - val_loss: 0.6003 - val_acc: 0.9062 - val_auc: 0.9568 - val_f1_score: 0.2377\n",
      "Epoch 75/100\n",
      "20/20 [==============================] - 1s 63ms/step - loss: 0.2159 - acc: 0.9203 - auc: 0.9911 - f1_score: 0.4902 - val_loss: 0.4564 - val_acc: 0.9062 - val_auc: 0.9682 - val_f1_score: 0.2377\n",
      "Epoch 76/100\n",
      "20/20 [==============================] - 1s 65ms/step - loss: 0.1921 - acc: 0.9281 - auc: 0.9933 - f1_score: 0.5061 - val_loss: 0.6805 - val_acc: 0.9062 - val_auc: 0.9497 - val_f1_score: 0.2377\n",
      "Epoch 77/100\n",
      "20/20 [==============================] - 1s 66ms/step - loss: 0.1593 - acc: 0.9344 - auc: 0.9961 - f1_score: 0.5477 - val_loss: 0.5003 - val_acc: 0.9062 - val_auc: 0.9637 - val_f1_score: 0.2377\n",
      "Epoch 78/100\n",
      "20/20 [==============================] - 1s 65ms/step - loss: 0.1567 - acc: 0.9516 - auc: 0.9956 - f1_score: 0.6102 - val_loss: 0.3865 - val_acc: 0.9062 - val_auc: 0.9775 - val_f1_score: 0.2377\n",
      "Epoch 79/100\n",
      "20/20 [==============================] - 1s 62ms/step - loss: 0.1322 - acc: 0.9609 - auc: 0.9965 - f1_score: 0.6354 - val_loss: 0.6559 - val_acc: 0.9062 - val_auc: 0.9478 - val_f1_score: 0.2377\n",
      "Epoch 80/100\n",
      "20/20 [==============================] - 1s 66ms/step - loss: 0.1165 - acc: 0.9609 - auc: 0.9983 - f1_score: 0.6134 - val_loss: 0.6566 - val_acc: 0.9062 - val_auc: 0.9467 - val_f1_score: 0.2377\n",
      "Epoch 81/100\n",
      "20/20 [==============================] - 1s 69ms/step - loss: 0.1640 - acc: 0.9391 - auc: 0.9954 - f1_score: 0.5629 - val_loss: 1.3147 - val_acc: 0.5312 - val_auc: 0.7860 - val_f1_score: 0.3129\n",
      "Epoch 82/100\n",
      "20/20 [==============================] - 1s 65ms/step - loss: 0.2190 - acc: 0.9172 - auc: 0.9911 - f1_score: 0.5207 - val_loss: 0.5885 - val_acc: 0.8125 - val_auc: 0.9415 - val_f1_score: 0.4466\n",
      "Epoch 83/100\n",
      "20/20 [==============================] - 1s 63ms/step - loss: 0.1221 - acc: 0.9578 - auc: 0.9971 - f1_score: 0.6269 - val_loss: 0.7865 - val_acc: 0.9125 - val_auc: 0.9489 - val_f1_score: 0.3099\n",
      "Epoch 84/100\n",
      "20/20 [==============================] - 1s 63ms/step - loss: 0.1184 - acc: 0.9594 - auc: 0.9978 - f1_score: 0.6318 - val_loss: 0.3557 - val_acc: 0.9125 - val_auc: 0.9701 - val_f1_score: 0.3217\n",
      "Epoch 85/100\n",
      "20/20 [==============================] - 1s 67ms/step - loss: 0.1093 - acc: 0.9625 - auc: 0.9978 - f1_score: 0.6430 - val_loss: 0.7974 - val_acc: 0.9062 - val_auc: 0.9565 - val_f1_score: 0.3001\n",
      "Epoch 86/100\n",
      "20/20 [==============================] - 1s 66ms/step - loss: 0.1292 - acc: 0.9516 - auc: 0.9962 - f1_score: 0.6175 - val_loss: 0.5677 - val_acc: 0.9062 - val_auc: 0.9580 - val_f1_score: 0.2377\n",
      "Epoch 87/100\n",
      "20/20 [==============================] - 1s 66ms/step - loss: 0.0871 - acc: 0.9656 - auc: 0.9990 - f1_score: 0.6474 - val_loss: 0.6208 - val_acc: 0.9062 - val_auc: 0.9452 - val_f1_score: 0.2377\n",
      "Epoch 88/100\n",
      "20/20 [==============================] - 1s 63ms/step - loss: 0.1096 - acc: 0.9609 - auc: 0.9977 - f1_score: 0.6363 - val_loss: 0.4265 - val_acc: 0.9125 - val_auc: 0.9740 - val_f1_score: 0.3099\n",
      "Epoch 89/100\n",
      "20/20 [==============================] - 1s 63ms/step - loss: 0.1305 - acc: 0.9594 - auc: 0.9962 - f1_score: 0.6402 - val_loss: 0.2938 - val_acc: 0.9187 - val_auc: 0.9843 - val_f1_score: 0.4429\n",
      "Epoch 90/100\n",
      "20/20 [==============================] - 1s 65ms/step - loss: 0.1081 - acc: 0.9625 - auc: 0.9979 - f1_score: 0.6399 - val_loss: 0.4325 - val_acc: 0.8688 - val_auc: 0.9728 - val_f1_score: 0.3397\n",
      "Epoch 91/100\n",
      "20/20 [==============================] - 1s 64ms/step - loss: 0.0849 - acc: 0.9688 - auc: 0.9990 - f1_score: 0.6386 - val_loss: 0.3699 - val_acc: 0.8625 - val_auc: 0.9792 - val_f1_score: 0.4921\n",
      "Epoch 92/100\n",
      "20/20 [==============================] - 1s 66ms/step - loss: 0.0609 - acc: 0.9859 - auc: 0.9996 - f1_score: 0.7057 - val_loss: 0.2728 - val_acc: 0.9250 - val_auc: 0.9807 - val_f1_score: 0.4850\n",
      "Epoch 93/100\n",
      "20/20 [==============================] - 1s 66ms/step - loss: 0.0821 - acc: 0.9703 - auc: 0.9987 - f1_score: 0.6619 - val_loss: 0.3824 - val_acc: 0.9250 - val_auc: 0.9716 - val_f1_score: 0.3651\n",
      "Epoch 94/100\n",
      "20/20 [==============================] - 1s 65ms/step - loss: 0.0547 - acc: 0.9828 - auc: 0.9996 - f1_score: 0.6971 - val_loss: 0.7003 - val_acc: 0.7563 - val_auc: 0.9419 - val_f1_score: 0.4037\n",
      "Epoch 95/100\n",
      "20/20 [==============================] - 1s 66ms/step - loss: 0.0476 - acc: 0.9875 - auc: 0.9997 - f1_score: 0.7200 - val_loss: 0.1989 - val_acc: 0.9250 - val_auc: 0.9918 - val_f1_score: 0.5148\n",
      "Epoch 96/100\n",
      "20/20 [==============================] - 1s 66ms/step - loss: 0.0639 - acc: 0.9797 - auc: 0.9994 - f1_score: 0.6983 - val_loss: 0.3145 - val_acc: 0.9438 - val_auc: 0.9731 - val_f1_score: 0.5014\n",
      "Epoch 97/100\n",
      "20/20 [==============================] - 1s 67ms/step - loss: 0.0573 - acc: 0.9844 - auc: 0.9987 - f1_score: 0.6887 - val_loss: 0.2307 - val_acc: 0.9375 - val_auc: 0.9833 - val_f1_score: 0.4669\n",
      "Epoch 98/100\n",
      "20/20 [==============================] - 1s 65ms/step - loss: 0.0455 - acc: 0.9844 - auc: 0.9997 - f1_score: 0.7030 - val_loss: 0.6797 - val_acc: 0.9062 - val_auc: 0.9415 - val_f1_score: 0.2377\n",
      "Epoch 99/100\n",
      "20/20 [==============================] - 1s 65ms/step - loss: 0.0634 - acc: 0.9875 - auc: 0.9984 - f1_score: 0.7070 - val_loss: 0.2649 - val_acc: 0.9313 - val_auc: 0.9812 - val_f1_score: 0.4728\n",
      "Epoch 100/100\n",
      "20/20 [==============================] - 1s 65ms/step - loss: 0.0998 - acc: 0.9734 - auc: 0.9955 - f1_score: 0.6776 - val_loss: 0.4330 - val_acc: 0.9187 - val_auc: 0.9709 - val_f1_score: 0.3642\n"
     ]
    }
   ],
   "source": [
    "#Fit the training data to the model and validate it using the validation data\n",
    "EPOCHS = 100\n",
    "\n",
    "history = model.fit(train_data, train_labels, validation_data=(val_data, val_labels), callbacks=CALLBACKS, epochs=EPOCHS)"
   ]
  },
  {
   "cell_type": "code",
   "execution_count": 15,
   "metadata": {},
   "outputs": [
    {
     "data": {
      "image/png": "[encoded data removed]",
      "text/plain": [
       "<Figure size 3000x500 with 3 Axes>"
      ]
     },
     "metadata": {},
     "output_type": "display_data"
    }
   ],
   "source": [
    "#Plotting the trend of the metrics during training\n",
    "\n",
    "fig, ax = plt.subplots(1, 3, figsize = (30, 5))\n",
    "ax = ax.ravel()\n",
    "\n",
    "for i, metric in enumerate([\"acc\", \"auc\", \"loss\"]):\n",
    "    ax[i].plot(history.history[metric])\n",
    "    ax[i].plot(history.history[\"val_\" + metric])\n",
    "    ax[i].set_title(\"Model {}\".format(metric))\n",
    "    ax[i].set_xlabel(\"Epochs\")\n",
    "    ax[i].set_ylabel(metric)\n",
    "    ax[i].legend([\"train\", \"val\"])"
   ]
  },
  {
   "cell_type": "code",
   "execution_count": null,
   "metadata": {},
   "outputs": [],
   "source": []
  },
  {
   "cell_type": "code",
   "execution_count": 16,
   "metadata": {},
   "outputs": [
    {
     "name": "stdout",
     "output_type": "stream",
     "text": [
      "7/7 [==============================] - 1s 57ms/step - loss: 0.4653 - acc: 0.9050 - auc: 0.9725 - f1_score: 0.3540\n",
      "Testing Accuracy: 90.50%\n"
     ]
    }
   ],
   "source": [
    "#Evaluating the model on the data\n",
    "\n",
    "#train_scores = model.evaluate(train_data, train_labels)\n",
    "#val_scores = model.evaluate(val_data, val_labels)\n",
    "test_scores = model.evaluate(test_data, test_labels)\n",
    "\n",
    "#print(\"Training Accuracy: %.2f%%\"%(train_scores[1] * 100))\n",
    "#print(\"Validation Accuracy: %.2f%%\"%(val_scores[1] * 100))\n",
    "print(\"Testing Accuracy: %.2f%%\"%(test_scores[1] * 100))"
   ]
  },
  {
   "cell_type": "code",
   "execution_count": 17,
   "metadata": {},
   "outputs": [
    {
     "name": "stdout",
     "output_type": "stream",
     "text": [
      "7/7 [==============================] - 1s 48ms/step\n"
     ]
    }
   ],
   "source": [
    "#Predicting the test data\n",
    "\n",
    "pred_labels = model.predict(test_data)"
   ]
  },
  {
   "cell_type": "code",
   "execution_count": 18,
   "metadata": {},
   "outputs": [
    {
     "name": "stdout",
     "output_type": "stream",
     "text": [
      "                  precision    recall  f1-score   support\n",
      "\n",
      "     NonDemented       0.90      1.00      0.95       178\n",
      "VeryMildDemented       1.00      0.15      0.27        13\n",
      "    MildDemented       1.00      0.11      0.20         9\n",
      "ModerateDemented       0.00      0.00      0.00         0\n",
      "\n",
      "       micro avg       0.91      0.91      0.91       200\n",
      "       macro avg       0.73      0.32      0.35       200\n",
      "    weighted avg       0.91      0.91      0.87       200\n",
      "     samples avg       0.91      0.91      0.91       200\n",
      "\n"
     ]
    },
    {
     "name": "stderr",
     "output_type": "stream",
     "text": [
      "C:\\Users\\ghlis\\anaconda3.1\\envs\\deeplearning\\lib\\site-packages\\sklearn\\metrics\\_classification.py:1471: UndefinedMetricWarning: Precision and F-score are ill-defined and being set to 0.0 in labels with no predicted samples. Use `zero_division` parameter to control this behavior.\n",
      "  _warn_prf(average, modifier, msg_start, len(result))\n",
      "C:\\Users\\ghlis\\anaconda3.1\\envs\\deeplearning\\lib\\site-packages\\sklearn\\metrics\\_classification.py:1471: UndefinedMetricWarning: Recall and F-score are ill-defined and being set to 0.0 in labels with no true samples. Use `zero_division` parameter to control this behavior.\n",
      "  _warn_prf(average, modifier, msg_start, len(result))\n"
     ]
    }
   ],
   "source": [
    "#Print the classification report of the tested data\n",
    "\n",
    "#Since the labels are softmax arrays, we need to roundoff to have it in the form of 0s and 1s,\n",
    "#similar to the test_labels\n",
    "def roundoff(arr):\n",
    "    \"\"\"To round off according to the argmax of each predicted label array. \"\"\"\n",
    "    arr[np.argwhere(arr != arr.max())] = 0\n",
    "    arr[np.argwhere(arr == arr.max())] = 1\n",
    "    return arr\n",
    "\n",
    "for labels in pred_labels:\n",
    "    labels = roundoff(labels)\n",
    "\n",
    "print(classification_report(test_labels, pred_labels, target_names=CLASSES))"
   ]
  },
  {
   "cell_type": "code",
   "execution_count": 33,
   "metadata": {},
   "outputs": [
    {
     "name": "stdout",
     "output_type": "stream",
     "text": [
      "7/7 [==============================] - 1s 71ms/step - loss: 0.4653 - acc: 0.9050 - auc: 0.9725 - f1_score: 0.3540\n",
      "7/7 [==============================] - 0s 58ms/step\n",
      "Testing Accuracy: 90.50%\n",
      "Precision: 0.91\n",
      "Recall: 0.91\n",
      "F2 Score: 0.89\n"
     ]
    }
   ],
   "source": [
    "from sklearn.metrics import precision_recall_fscore_support\n",
    "\n",
    "test_scores = model.evaluate(test_data, test_labels)\n",
    "predictions = model.predict(test_data)\n",
    "\n",
    "# Calculate precision, recall, and F2 score\n",
    "precision, recall, f2_score, _ = precision_recall_fscore_support(test_labels.argmax(axis=1), predictions.argmax(axis=1), average='weighted', beta=2)\n",
    "\n",
    "print(\"Testing Accuracy: %.2f%%\" % (test_scores[1] * 100))\n",
    "print(\"Precision: %.2f\" % precision)\n",
    "print(\"Recall: %.2f\" % recall)\n",
    "print(\"F2 Score: %.2f\" % f2_score)\n"
   ]
  },
  {
   "cell_type": "code",
   "execution_count": 20,
   "metadata": {},
   "outputs": [
    {
     "data": {
      "image/png": "[encoded data removed]",
      "text/plain": [
       "<Figure size 640x480 with 2 Axes>"
      ]
     },
     "metadata": {},
     "output_type": "display_data"
    }
   ],
   "source": [
    "#Plot the confusion matrix to understand the classification in detail\n",
    "\n",
    "pred_ls = np.argmax(pred_labels, axis=1)\n",
    "test_ls = np.argmax(test_labels, axis=1)\n",
    "\n",
    "conf_arr = confusion_matrix(test_ls, pred_ls)\n",
    "\n",
    "plt.figure(figsize=(8, 6), dpi=80, facecolor='w', edgecolor='k')\n",
    "\n",
    "ax = sns.heatmap(conf_arr, cmap='Greens', annot=True, fmt='d', xticklabels=CLASSES, yticklabels=CLASSES)\n",
    "\n",
    "plt.title('ID 03')\n",
    "plt.xlabel('Prediction')\n",
    "plt.ylabel('Truth')\n",
    "plt.show(ax)"
   ]
  },
  {
   "cell_type": "code",
   "execution_count": 21,
   "metadata": {},
   "outputs": [
    {
     "name": "stdout",
     "output_type": "stream",
     "text": [
      "Balanced Accuracy Score: 42.17 %\n",
      "Matthew's Correlation Coefficient: 35.53 %\n"
     ]
    }
   ],
   "source": [
    "#Printing some other classification metrics\n",
    "\n",
    "print(\"Balanced Accuracy Score: {} %\".format(round(BAS(test_ls, pred_ls) * 100, 2)))\n",
    "print(\"Matthew's Correlation Coefficient: {} %\".format(round(MCC(test_ls, pred_ls) * 100, 2)))"
   ]
  },
  {
   "cell_type": "code",
   "execution_count": 22,
   "metadata": {},
   "outputs": [
    {
     "data": {
      "text/plain": [
       "['alzheimer_cnn_model',\n",
       " 'MildDemented',\n",
       " 'ModerateDemented',\n",
       " 'NonDemented',\n",
       " 'VeryMildDemented']"
      ]
     },
     "execution_count": 22,
     "metadata": {},
     "output_type": "execute_result"
    }
   ],
   "source": [
    "#Saving the model for future use\n",
    "\n",
    "model_dir = work_dir + \"alzheimer_cnn_model\"\n",
    "model.save(model_dir, save_format='h5')\n",
    "os.listdir(work_dir)"
   ]
  },
  {
   "cell_type": "code",
   "execution_count": null,
   "metadata": {},
   "outputs": [],
   "source": [
    "pretrained_model = tf.keras.models.load_model(model_dir)\n",
    "\n",
    "#Check its architecture\n",
    "plot_model(pretrained_model, to_file=work_dir + \"model_plot.png\", show_shapes=True, show_layer_names=True)"
   ]
  },
  {
   "cell_type": "markdown",
   "metadata": {},
   "source": [
    "### Using the InceptionV3 model as a base model for the task"
   ]
  },
  {
   "cell_type": "markdown",
   "metadata": {},
   "source": [
    "**Please check out the notebook here: \n",
    "[Inception V3 Model Notebook](https://www.kaggle.com/vishakansubramanian/alzheimer-s-disease-classification-inceptionv3)**"
   ]
  },
  {
   "cell_type": "code",
   "execution_count": 26,
   "metadata": {},
   "outputs": [],
   "source": [
    "model.save('models/id3_adni_.h5')\n"
   ]
  },
  {
   "cell_type": "code",
   "execution_count": 38,
   "metadata": {},
   "outputs": [
    {
     "name": "stdout",
     "output_type": "stream",
     "text": [
      "Found 9488 images belonging to 4 classes.\n",
      "32/32 [==============================] - 2s 60ms/step\n"
     ]
    }
   ],
   "source": [
    "# Assume 'new_data_dir' is the directory where you upload the new data\n",
    "new_data_dir = 'AD_data/2-OASIS(9488)/input'\n",
    "\n",
    "# Preprocess the new data\n",
    "new_data_generator = work_dr.flow_from_directory(directory=new_data_dir, target_size=DIM, batch_size=1000, shuffle=False)\n",
    "new_data, new_labels = new_data_generator.next()\n",
    "new_data = new_data.reshape(-1, IMG_SIZE, IMG_SIZE, 3)\n",
    "\n",
    "# Make predictions with the model\n",
    "new_predictions = model.predict(new_data)\n",
    "\n",
    "# Optionally, you can decode the predictions if you have a mapping of class indices to class labels\n",
    "decoded_predictions = [CLASSES[np.argmax(pred)] for pred in new_predictions]\n",
    "\n"
   ]
  },
  {
   "cell_type": "code",
   "execution_count": 39,
   "metadata": {},
   "outputs": [
    {
     "name": "stdout",
     "output_type": "stream",
     "text": [
      "32/32 [==============================] - 2s 76ms/step - loss: 0.4663 - acc: 0.8840 - auc: 0.9732 - f1_score: 0.2346\n",
      "Testing Accuracy on New Data: 88.40%\n"
     ]
    }
   ],
   "source": [
    "\n",
    "# Evaluate the model on the new data\n",
    "new_scores = model.evaluate(new_data, new_labels)\n",
    "\n",
    "# Print the testing accuracy\n",
    "print(\"Testing Accuracy on New Data: %.2f%%\" % (new_scores[1] * 100))"
   ]
  },
  {
   "cell_type": "code",
   "execution_count": 41,
   "metadata": {},
   "outputs": [],
   "source": [
    "from tensorflow.keras.models import load_model\n",
    "id3 = load_model(\"models/id3_adni_.h5\")"
   ]
  },
  {
   "cell_type": "code",
   "execution_count": 42,
   "metadata": {},
   "outputs": [
    {
     "name": "stdout",
     "output_type": "stream",
     "text": [
      "32/32 [==============================] - 3s 73ms/step - loss: 0.4663 - acc: 0.8840 - auc: 0.9732 - f1_score: 0.2346\n",
      "Testing Accuracy on New Data: 88.40%\n"
     ]
    }
   ],
   "source": [
    "\n",
    "new_scores = id3.evaluate(new_data, new_labels)\n",
    "\n",
    "# Print the testing accuracy\n",
    "print(\"Testing Accuracy on New Data: %.2f%%\" % (new_scores[1] * 100))"
   ]
  },
  {
   "cell_type": "code",
   "execution_count": null,
   "metadata": {},
   "outputs": [],
   "source": []
  }
 ],
 "metadata": {
  "kaggle": {
   "accelerator": "none",
   "dataSources": [
    {
     "datasetId": 457093,
     "sourceId": 861496,
     "sourceType": "datasetVersion"
    }
   ],
   "dockerImageVersionId": 30085,
   "isGpuEnabled": false,
   "isInternetEnabled": true,
   "language": "python",
   "sourceType": "notebook"
  },
  "kernelspec": {
   "display_name": "Python 3 (ipykernel)",
   "language": "python",
   "name": "python3"
  },
  "language_info": {
   "codemirror_mode": {
    "name": "ipython",
    "version": 3
   },
   "file_extension": ".py",
   "mimetype": "text/x-python",
   "name": "python",
   "nbconvert_exporter": "python",
   "pygments_lexer": "ipython3",
   "version": "3.8.19"
  }
 },
 "nbformat": 4,
 "nbformat_minor": 4
}
