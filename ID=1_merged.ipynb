{
 "cells": [
  {
   "cell_type": "markdown",
   "id": "LAUDniu14u2d",
   "metadata": {
    "id": "LAUDniu14u2d"
   },
   "source": [
    "# DATA"
   ]
  },
  {
   "cell_type": "code",
   "execution_count": 19,
   "id": "a0ab504a-8017-4cb2-b50d-469a792539a5",
   "metadata": {
    "colab": {
     "base_uri": "https://localhost:8080/"
    },
    "id": "a0ab504a-8017-4cb2-b50d-469a792539a5",
    "outputId": "cbabee93-1aac-4e07-896b-d512b8e55b39"
   },
   "outputs": [
    {
     "name": "stdout",
     "output_type": "stream",
     "text": [
      "Number of replicas: 1\n",
      "2.10.0\n"
     ]
    }
   ],
   "source": [
    "import os\n",
    "import numpy as np\n",
    "import pandas as pd\n",
    "import tensorflow as tf\n",
    "import matplotlib.pyplot as plt\n",
    "import PIL\n",
    "from tensorflow.keras.preprocessing.image import ImageDataGenerator\n",
    "\n",
    "try:\n",
    "    tpu = tf.distribute.cluster_resolver.TPUClusterResolver()\n",
    "    print('Device:', tpu.master())\n",
    "    tf.config.experimental_connect_to_cluster(tpu)\n",
    "    tf.tpu.experimental.initialize_tpu_system(tpu)\n",
    "    strategy = tf.distribute.experimental.TPUStrategy(tpu)\n",
    "except:\n",
    "    strategy = tf.distribute.get_strategy()\n",
    "print('Number of replicas:', strategy.num_replicas_in_sync)\n",
    "\n",
    "print(tf.__version__)"
   ]
  },
  {
   "cell_type": "code",
   "execution_count": 20,
   "id": "045cb2a1-f422-4b71-8797-e2d6cff6e7f7",
   "metadata": {
    "id": "045cb2a1-f422-4b71-8797-e2d6cff6e7f7"
   },
   "outputs": [],
   "source": [
    "AUTOTUNE = tf.data.experimental.AUTOTUNE\n",
    "BATCH_SIZE = 16 * strategy.num_replicas_in_sync\n",
    "IMAGE_SIZE = [176, 208]\n",
    "EPOCHS = 100\n"
   ]
  },
  {
   "cell_type": "code",
   "execution_count": null,
   "id": "IdlY_dqEtILK",
   "metadata": {
    "id": "IdlY_dqEtILK"
   },
   "outputs": [],
   "source": []
  },
  {
   "cell_type": "markdown",
   "id": "wB83djkq135s",
   "metadata": {
    "id": "wB83djkq135s"
   },
   "source": [
    "**preproccessing**:"
   ]
  },
  {
   "cell_type": "code",
   "execution_count": 21,
   "id": "23c3ec03-d368-4a8b-9e83-0010ec459cd7",
   "metadata": {
    "colab": {
     "base_uri": "https://localhost:8080/"
    },
    "id": "23c3ec03-d368-4a8b-9e83-0010ec459cd7",
    "outputId": "b6639aec-2311-464a-de6f-48d1a4c63f0c"
   },
   "outputs": [
    {
     "name": "stdout",
     "output_type": "stream",
     "text": [
      "Found 15888 files belonging to 4 classes.\n",
      "Using 11122 files for training.\n",
      "Found 15888 files belonging to 4 classes.\n",
      "Using 1588 files for validation.\n",
      "Found 15888 files belonging to 4 classes.\n",
      "Using 1588 files for validation.\n"
     ]
    }
   ],
   "source": [
    "train_ds = tf.keras.preprocessing.image_dataset_from_directory(\n",
    "    \"data/merged/dataset\" ,\n",
    "    validation_split=0.3,  # 30% validation\n",
    "    subset=\"training\",\n",
    "    seed=1337,\n",
    "    image_size=IMAGE_SIZE,\n",
    "    batch_size=BATCH_SIZE,\n",
    "    shuffle=True\n",
    ")\n",
    "\n",
    "val_ds = tf.keras.preprocessing.image_dataset_from_directory(\n",
    "    \"data/merged/dataset\",\n",
    "    validation_split=0.1,  # 10% validation\n",
    "    subset=\"validation\",\n",
    "    seed=1337,\n",
    "    image_size=IMAGE_SIZE,\n",
    "    batch_size=BATCH_SIZE,\n",
    ")\n",
    "\n",
    "test_ds = tf.keras.preprocessing.image_dataset_from_directory(\n",
    "    \"data/merged/dataset\",\n",
    "    validation_split=0.1,  # 10% testing\n",
    "    subset=\"validation\",\n",
    "    seed=1337,\n",
    "    image_size=IMAGE_SIZE,\n",
    "    batch_size=BATCH_SIZE,\n",
    ")\n",
    "\n"
   ]
  },
  {
   "cell_type": "code",
   "execution_count": 22,
   "id": "e317e20e-12c3-4b02-ac42-8057986c49b3",
   "metadata": {
    "id": "e317e20e-12c3-4b02-ac42-8057986c49b3"
   },
   "outputs": [],
   "source": [
    "class_names = ['Mild_Dementia', 'Moderate_Dementia', 'Non_Dementia', 'Very_Mild_Dementia']\n",
    "train_ds.class_names = class_names\n",
    "val_ds.class_names = class_names\n",
    "\n",
    "NUM_CLASSES = len(class_names)\n"
   ]
  },
  {
   "cell_type": "markdown",
   "id": "MNO9gR9Ftjrx",
   "metadata": {
    "id": "MNO9gR9Ftjrx"
   },
   "source": [
    "**one hot encoding**"
   ]
  },
  {
   "cell_type": "code",
   "execution_count": 23,
   "id": "565cc348-9831-4c91-a6e8-20087cf8acdd",
   "metadata": {
    "id": "565cc348-9831-4c91-a6e8-20087cf8acdd"
   },
   "outputs": [],
   "source": [
    "def one_hot_label(image, label):\n",
    "    label = tf.one_hot(label, NUM_CLASSES)\n",
    "    return image, label\n",
    "\n",
    "train_ds = train_ds.map(one_hot_label, num_parallel_calls=AUTOTUNE)\n",
    "val_ds = val_ds.map(one_hot_label, num_parallel_calls=AUTOTUNE)\n",
    "test_ds = test_ds.map(one_hot_label, num_parallel_calls=AUTOTUNE)\n",
    "\n"
   ]
  },
  {
   "cell_type": "code",
   "execution_count": 25,
   "id": "113690ed-cee3-4049-a686-409442cef531",
   "metadata": {
    "id": "113690ed-cee3-4049-a686-409442cef531"
   },
   "outputs": [],
   "source": [
    "train_ds = train_ds.cache().prefetch(buffer_size=AUTOTUNE)\n",
    "val_ds = val_ds.cache().prefetch(buffer_size=AUTOTUNE)\n",
    "test_ds = test_ds.cache().prefetch(buffer_size=AUTOTUNE)\n",
    "\n"
   ]
  },
  {
   "cell_type": "markdown",
   "id": "Ky2hLqIc1yin",
   "metadata": {
    "id": "Ky2hLqIc1yin"
   },
   "source": [
    "# **model building**"
   ]
  },
  {
   "cell_type": "code",
   "execution_count": 26,
   "id": "e23fd3a5-da07-41b0-ba0e-49a160f69f63",
   "metadata": {
    "id": "e23fd3a5-da07-41b0-ba0e-49a160f69f63"
   },
   "outputs": [],
   "source": [
    "def conv_block(filters):\n",
    "    block = tf.keras.Sequential([\n",
    "        tf.keras.layers.SeparableConv2D(filters, 3, activation='relu', padding='same'),\n",
    "        tf.keras.layers.SeparableConv2D(filters, 3, activation='relu', padding='same'),\n",
    "        tf.keras.layers.BatchNormalization(),\n",
    "        tf.keras.layers.MaxPool2D()\n",
    "    ]\n",
    "    )\n",
    "\n",
    "    return block"
   ]
  },
  {
   "cell_type": "code",
   "execution_count": 27,
   "id": "bbea982e-ae2f-4742-8540-0d7934ca7607",
   "metadata": {
    "id": "bbea982e-ae2f-4742-8540-0d7934ca7607"
   },
   "outputs": [],
   "source": [
    "def dense_block(units, dropout_rate):\n",
    "    block = tf.keras.Sequential([\n",
    "        tf.keras.layers.Dense(units, activation='relu'),\n",
    "        tf.keras.layers.BatchNormalization(),\n",
    "        tf.keras.layers.Dropout(dropout_rate)\n",
    "    ])\n",
    "\n",
    "    return block"
   ]
  },
  {
   "cell_type": "code",
   "execution_count": 28,
   "id": "3b57991c-5a3b-4e94-b1e6-3ef5b95ed21d",
   "metadata": {
    "id": "3b57991c-5a3b-4e94-b1e6-3ef5b95ed21d"
   },
   "outputs": [],
   "source": [
    "def build_model():\n",
    "    model = tf.keras.Sequential([\n",
    "        tf.keras.Input(shape=(*IMAGE_SIZE, 3)),\n",
    "\n",
    "        tf.keras.layers.Conv2D(16, 3, activation='relu', padding='same'),\n",
    "        tf.keras.layers.Conv2D(16, 3, activation='relu', padding='same'),\n",
    "        tf.keras.layers.MaxPool2D(),\n",
    "\n",
    "        conv_block(32),\n",
    "        conv_block(64),\n",
    "\n",
    "        conv_block(128),\n",
    "        tf.keras.layers.Dropout(0.2),\n",
    "\n",
    "        conv_block(256),\n",
    "        tf.keras.layers.Dropout(0.2),\n",
    "\n",
    "        tf.keras.layers.Flatten(),\n",
    "        dense_block(512, 0.7),\n",
    "        dense_block(128, 0.5),\n",
    "        dense_block(64, 0.3),\n",
    "\n",
    "        tf.keras.layers.Dense(NUM_CLASSES, activation='softmax')\n",
    "    ])\n",
    "\n",
    "    return model\n",
    "\n",
    "\n",
    "\n",
    "\n",
    "\n"
   ]
  },
  {
   "cell_type": "code",
   "execution_count": 29,
   "id": "866c3e5f-229a-4ff3-9239-76427f6c5284",
   "metadata": {
    "id": "866c3e5f-229a-4ff3-9239-76427f6c5284"
   },
   "outputs": [],
   "source": [
    "with strategy.scope():\n",
    "    model = build_model()\n",
    "\n",
    "    METRICS = [tf.keras.metrics.AUC(name='auc')]\n",
    "\n",
    "    model.compile(\n",
    "        optimizer='adam',\n",
    "        loss=tf.losses.CategoricalCrossentropy(),\n",
    "        metrics=METRICS\n",
    "    )"
   ]
  },
  {
   "cell_type": "code",
   "execution_count": 30,
   "id": "9b2b8248-0fc5-492e-89cf-38dc82a7f0af",
   "metadata": {
    "id": "9b2b8248-0fc5-492e-89cf-38dc82a7f0af"
   },
   "outputs": [],
   "source": [
    "def exponential_decay(lr0, s):\n",
    "    def exponential_decay_fn(epoch):\n",
    "        return lr0 * 0.1 **(epoch / s)\n",
    "    return exponential_decay_fn\n",
    "\n",
    "exponential_decay_fn = exponential_decay(0.01, 20)\n",
    "\n",
    "lr_scheduler = tf.keras.callbacks.LearningRateScheduler(exponential_decay_fn)\n",
    "\n",
    "checkpoint_cb = tf.keras.callbacks.ModelCheckpoint(\"alzheimer_model.h5\",\n",
    "                                                    save_best_only=True)\n",
    "\n",
    "early_stopping_cb = tf.keras.callbacks.EarlyStopping(patience=5,\n",
    "                                                     restore_best_weights=True)"
   ]
  },
  {
   "cell_type": "markdown",
   "id": "oaNrDfzF1u5P",
   "metadata": {
    "id": "oaNrDfzF1u5P"
   },
   "source": [
    "**model fitting**"
   ]
  },
  {
   "cell_type": "code",
   "execution_count": 31,
   "id": "bd4c92cb-7c11-44ff-b07b-f074bb5bee89",
   "metadata": {
    "colab": {
     "base_uri": "https://localhost:8080/"
    },
    "id": "bd4c92cb-7c11-44ff-b07b-f074bb5bee89",
    "outputId": "d75cde3f-760d-49e7-f975-bab2847b3fb0"
   },
   "outputs": [
    {
     "name": "stdout",
     "output_type": "stream",
     "text": [
      "Epoch 1/100\n",
      "696/696 [==============================] - 459s 654ms/step - loss: 1.1696 - auc: 0.7438 - val_loss: 3.2822 - val_auc: 0.6687 - lr: 0.0100\n",
      "Epoch 2/100\n",
      "696/696 [==============================] - 440s 631ms/step - loss: 0.9957 - auc: 0.8190 - val_loss: 1.2272 - val_auc: 0.7964 - lr: 0.0089\n",
      "Epoch 3/100\n",
      "696/696 [==============================] - 408s 586ms/step - loss: 0.8992 - auc: 0.8556 - val_loss: 1.1662 - val_auc: 0.8137 - lr: 0.0079\n",
      "Epoch 4/100\n",
      "696/696 [==============================] - 415s 596ms/step - loss: 0.8325 - auc: 0.8775 - val_loss: 1.4203 - val_auc: 0.8145 - lr: 0.0071\n",
      "Epoch 5/100\n",
      "696/696 [==============================] - 406s 583ms/step - loss: 0.7089 - auc: 0.9114 - val_loss: 0.5290 - val_auc: 0.9497 - lr: 0.0063\n",
      "Epoch 6/100\n",
      "696/696 [==============================] - 408s 586ms/step - loss: 0.6302 - auc: 0.9293 - val_loss: 0.5886 - val_auc: 0.9391 - lr: 0.0056\n",
      "Epoch 7/100\n",
      "696/696 [==============================] - 398s 571ms/step - loss: 0.5657 - auc: 0.9429 - val_loss: 0.4223 - val_auc: 0.9672 - lr: 0.0050\n",
      "Epoch 8/100\n",
      "696/696 [==============================] - 403s 578ms/step - loss: 0.5224 - auc: 0.9506 - val_loss: 0.5465 - val_auc: 0.9495 - lr: 0.0045\n",
      "Epoch 9/100\n",
      "696/696 [==============================] - 420s 603ms/step - loss: 0.4766 - auc: 0.9584 - val_loss: 0.3929 - val_auc: 0.9717 - lr: 0.0040\n",
      "Epoch 10/100\n",
      "696/696 [==============================] - 419s 602ms/step - loss: 0.4783 - auc: 0.9583 - val_loss: 0.4977 - val_auc: 0.9659 - lr: 0.0035\n",
      "Epoch 11/100\n",
      "696/696 [==============================] - 420s 604ms/step - loss: 0.5461 - auc: 0.9466 - val_loss: 0.3898 - val_auc: 0.9728 - lr: 0.0032\n",
      "Epoch 12/100\n",
      "696/696 [==============================] - 424s 610ms/step - loss: 0.4499 - auc: 0.9628 - val_loss: 0.3610 - val_auc: 0.9754 - lr: 0.0028\n",
      "Epoch 13/100\n",
      "696/696 [==============================] - 419s 601ms/step - loss: 0.4429 - auc: 0.9638 - val_loss: 0.3525 - val_auc: 0.9770 - lr: 0.0025\n",
      "Epoch 14/100\n",
      "696/696 [==============================] - 1281s 2s/step - loss: 0.4141 - auc: 0.9682 - val_loss: 0.3483 - val_auc: 0.9788 - lr: 0.0022\n",
      "Epoch 15/100\n",
      "696/696 [==============================] - 470s 675ms/step - loss: 0.3994 - auc: 0.9705 - val_loss: 0.3512 - val_auc: 0.9762 - lr: 0.0020\n",
      "Epoch 16/100\n",
      "696/696 [==============================] - 428s 614ms/step - loss: 0.3703 - auc: 0.9745 - val_loss: 0.3184 - val_auc: 0.9795 - lr: 0.0016\n",
      "Epoch 18/100\n",
      "696/696 [==============================] - 386s 553ms/step - loss: 0.3524 - auc: 0.9768 - val_loss: 0.2973 - val_auc: 0.9831 - lr: 0.0014\n",
      "Epoch 19/100\n",
      "696/696 [==============================] - 392s 563ms/step - loss: 0.3339 - auc: 0.9795 - val_loss: 0.2776 - val_auc: 0.9864 - lr: 0.0010\n",
      "Epoch 22/100\n",
      "696/696 [==============================] - 391s 562ms/step - loss: 0.3094 - auc: 0.9822 - val_loss: 0.2589 - val_auc: 0.9879 - lr: 7.9433e-04\n",
      "Epoch 24/100\n",
      "696/696 [==============================] - 412s 591ms/step - loss: 0.3064 - auc: 0.9827 - val_loss: 0.2575 - val_auc: 0.9882 - lr: 7.0795e-04\n",
      "Epoch 25/100\n",
      "696/696 [==============================] - 447s 642ms/step - loss: 0.2955 - auc: 0.9836 - val_loss: 0.2409 - val_auc: 0.9891 - lr: 6.3096e-04\n",
      "Epoch 26/100\n",
      "696/696 [==============================] - 421s 605ms/step - loss: 0.2894 - auc: 0.9844 - val_loss: 0.2455 - val_auc: 0.9885 - lr: 5.6234e-04\n",
      "Epoch 27/100\n",
      "696/696 [==============================] - 423s 607ms/step - loss: 0.2731 - auc: 0.9860 - val_loss: 0.2283 - val_auc: 0.9898 - lr: 5.0119e-04\n",
      "Epoch 28/100\n",
      "696/696 [==============================] - 462s 664ms/step - loss: 0.2687 - auc: 0.9864 - val_loss: 0.2230 - val_auc: 0.9908 - lr: 4.4668e-04\n",
      "Epoch 29/100\n",
      "696/696 [==============================] - 434s 623ms/step - loss: 0.2655 - auc: 0.9869 - val_loss: 0.2238 - val_auc: 0.9910 - lr: 3.9811e-04\n",
      "Epoch 30/100\n",
      "696/696 [==============================] - 434s 624ms/step - loss: 0.2546 - auc: 0.9878 - val_loss: 0.2098 - val_auc: 0.9917 - lr: 3.5481e-04\n",
      "Epoch 31/100\n",
      "696/696 [==============================] - 423s 608ms/step - loss: 0.2493 - auc: 0.9883 - val_loss: 0.2051 - val_auc: 0.9919 - lr: 3.1623e-04\n",
      "Epoch 32/100\n",
      "696/696 [==============================] - 416s 598ms/step - loss: 0.2456 - auc: 0.9887 - val_loss: 0.2104 - val_auc: 0.9919 - lr: 2.8184e-04\n",
      "Epoch 33/100\n",
      "696/696 [==============================] - 410s 589ms/step - loss: 0.2384 - auc: 0.9894 - val_loss: 0.2079 - val_auc: 0.9921 - lr: 2.5119e-04\n",
      "Epoch 34/100\n",
      "696/696 [==============================] - 458s 658ms/step - loss: 0.2417 - auc: 0.9890 - val_loss: 0.2020 - val_auc: 0.9921 - lr: 2.2387e-04\n",
      "Epoch 35/100\n",
      "696/696 [==============================] - 389s 558ms/step - loss: 0.2326 - auc: 0.9900 - val_loss: 0.1936 - val_auc: 0.9929 - lr: 1.9953e-04\n",
      "Epoch 36/100\n",
      "696/696 [==============================] - 361s 518ms/step - loss: 0.2281 - auc: 0.9901 - val_loss: 0.1928 - val_auc: 0.9929 - lr: 1.7783e-04\n",
      "Epoch 37/100\n",
      "696/696 [==============================] - 357s 513ms/step - loss: 0.2337 - auc: 0.9896 - val_loss: 0.1936 - val_auc: 0.9928 - lr: 1.5849e-04\n",
      "Epoch 38/100\n",
      "696/696 [==============================] - 358s 514ms/step - loss: 0.2256 - auc: 0.9903 - val_loss: 0.1874 - val_auc: 0.9933 - lr: 1.4125e-04\n",
      "Epoch 39/100\n",
      "696/696 [==============================] - 378s 543ms/step - loss: 0.2184 - auc: 0.9910 - val_loss: 0.1880 - val_auc: 0.9934 - lr: 1.2589e-04\n",
      "Epoch 40/100\n",
      "696/696 [==============================] - 377s 542ms/step - loss: 0.2184 - auc: 0.9910 - val_loss: 0.1845 - val_auc: 0.9936 - lr: 1.1220e-04\n",
      "Epoch 41/100\n",
      "696/696 [==============================] - 3304s 5s/step - loss: 0.2140 - auc: 0.9913 - val_loss: 0.1843 - val_auc: 0.9936 - lr: 1.0000e-04\n",
      "Epoch 42/100\n",
      "696/696 [==============================] - 467s 672ms/step - loss: 0.2091 - auc: 0.9915 - val_loss: 0.1822 - val_auc: 0.9937 - lr: 8.9125e-05\n",
      "Epoch 43/100\n",
      "696/696 [==============================] - 438s 630ms/step - loss: 0.2119 - auc: 0.9915 - val_loss: 0.1784 - val_auc: 0.9939 - lr: 7.9433e-05\n",
      "Epoch 44/100\n",
      "696/696 [==============================] - 435s 626ms/step - loss: 0.2101 - auc: 0.9916 - val_loss: 0.1776 - val_auc: 0.9940 - lr: 7.0795e-05\n",
      "Epoch 45/100\n",
      "696/696 [==============================] - 439s 631ms/step - loss: 0.2081 - auc: 0.9918 - val_loss: 0.1772 - val_auc: 0.9940 - lr: 6.3096e-05\n",
      "Epoch 46/100\n",
      "696/696 [==============================] - 457s 656ms/step - loss: 0.2103 - auc: 0.9915 - val_loss: 0.1773 - val_auc: 0.9940 - lr: 5.6234e-05\n",
      "Epoch 47/100\n",
      "696/696 [==============================] - 489s 703ms/step - loss: 0.2041 - auc: 0.9918 - val_loss: 0.1782 - val_auc: 0.9940 - lr: 5.0119e-05\n",
      "Epoch 48/100\n",
      "696/696 [==============================] - 467s 671ms/step - loss: 0.2092 - auc: 0.9919 - val_loss: 0.1769 - val_auc: 0.9941 - lr: 4.4668e-05\n",
      "Epoch 49/100\n",
      "696/696 [==============================] - 461s 663ms/step - loss: 0.2056 - auc: 0.9918 - val_loss: 0.1767 - val_auc: 0.9941 - lr: 3.9811e-05\n",
      "Epoch 50/100\n",
      "696/696 [==============================] - 443s 637ms/step - loss: 0.2086 - auc: 0.9917 - val_loss: 0.1754 - val_auc: 0.9941 - lr: 3.5481e-05\n",
      "Epoch 51/100\n",
      "696/696 [==============================] - 476s 683ms/step - loss: 0.2056 - auc: 0.9919 - val_loss: 0.1756 - val_auc: 0.9942 - lr: 3.1623e-05\n",
      "Epoch 52/100\n",
      "696/696 [==============================] - 447s 642ms/step - loss: 0.2040 - auc: 0.9920 - val_loss: 0.1740 - val_auc: 0.9943 - lr: 2.8184e-05\n",
      "Epoch 53/100\n",
      "696/696 [==============================] - 540s 775ms/step - loss: 0.1978 - auc: 0.9925 - val_loss: 0.1743 - val_auc: 0.9943 - lr: 2.5119e-05\n",
      "Epoch 54/100\n",
      "696/696 [==============================] - 482s 693ms/step - loss: 0.2011 - auc: 0.9922 - val_loss: 0.1740 - val_auc: 0.9943 - lr: 2.2387e-05\n",
      "Epoch 55/100\n",
      "696/696 [==============================] - 461s 662ms/step - loss: 0.1981 - auc: 0.9925 - val_loss: 0.1736 - val_auc: 0.9943 - lr: 1.9953e-05\n",
      "Epoch 56/100\n",
      "696/696 [==============================] - 3205s 5s/step - loss: 0.2016 - auc: 0.9923 - val_loss: 0.1738 - val_auc: 0.9943 - lr: 1.7783e-05\n",
      "Epoch 57/100\n",
      "696/696 [==============================] - 514s 739ms/step - loss: 0.2021 - auc: 0.9922 - val_loss: 0.1731 - val_auc: 0.9944 - lr: 1.5849e-05\n",
      "Epoch 58/100\n",
      "696/696 [==============================] - 571s 820ms/step - loss: 0.1994 - auc: 0.9924 - val_loss: 0.1733 - val_auc: 0.9943 - lr: 1.4125e-05\n",
      "Epoch 59/100\n",
      "696/696 [==============================] - 521s 748ms/step - loss: 0.1948 - auc: 0.9927 - val_loss: 0.1731 - val_auc: 0.9944 - lr: 1.2589e-05\n",
      "Epoch 60/100\n",
      "696/696 [==============================] - 424s 609ms/step - loss: 0.1971 - auc: 0.9927 - val_loss: 0.1743 - val_auc: 0.9943 - lr: 7.9433e-06\n",
      "Epoch 64/100\n",
      "696/696 [==============================] - 370s 532ms/step - loss: 0.2007 - auc: 0.9923 - val_loss: 0.1722 - val_auc: 0.9944 - lr: 6.3096e-06\n",
      "Epoch 66/100\n",
      "696/696 [==============================] - 379s 544ms/step - loss: 0.1931 - auc: 0.9928 - val_loss: 0.1734 - val_auc: 0.9943 - lr: 5.0119e-06\n",
      "Epoch 68/100\n",
      "696/696 [==============================] - 378s 542ms/step - loss: 0.1974 - auc: 0.9925 - val_loss: 0.1725 - val_auc: 0.9944 - lr: 4.4668e-06\n",
      "Epoch 69/100\n",
      "696/696 [==============================] - 442s 636ms/step - loss: 0.1971 - auc: 0.9925 - val_loss: 0.1720 - val_auc: 0.9944 - lr: 3.5481e-06\n",
      "Epoch 71/100\n",
      "696/696 [==============================] - 465s 668ms/step - loss: 0.2009 - auc: 0.9924 - val_loss: 0.1722 - val_auc: 0.9944 - lr: 2.8184e-06\n",
      "Epoch 73/100\n",
      "696/696 [==============================] - 429s 617ms/step - loss: 0.1984 - auc: 0.9926 - val_loss: 0.1747 - val_auc: 0.9943 - lr: 1.7783e-06\n",
      "Epoch 77/100\n",
      "696/696 [==============================] - 429s 617ms/step - loss: 0.1937 - auc: 0.9930 - val_loss: 0.1721 - val_auc: 0.9944 - lr: 1.4125e-06\n",
      "Epoch 79/100\n",
      "696/696 [==============================] - 426s 612ms/step - loss: 0.1959 - auc: 0.9928 - val_loss: 0.1751 - val_auc: 0.9942 - lr: 1.1220e-06\n",
      "Epoch 81/100\n",
      "696/696 [==============================] - 420s 604ms/step - loss: 0.2061 - auc: 0.9917 - val_loss: 0.1718 - val_auc: 0.9944 - lr: 1.0000e-06\n",
      "Epoch 82/100\n",
      "696/696 [==============================] - 40807s 59s/step - loss: 0.1975 - auc: 0.9924 - val_loss: 0.1718 - val_auc: 0.9944 - lr: 8.9125e-07\n",
      "Epoch 83/100\n",
      "696/696 [==============================] - 526s 755ms/step - loss: 0.2026 - auc: 0.9921 - val_loss: 0.1720 - val_auc: 0.9944 - lr: 7.9433e-07\n",
      "Epoch 84/100\n",
      "696/696 [==============================] - 543s 780ms/step - loss: 0.1989 - auc: 0.9924 - val_loss: 0.1717 - val_auc: 0.9944 - lr: 7.0795e-07\n",
      "Epoch 85/100\n",
      "696/696 [==============================] - 427s 613ms/step - loss: 0.2002 - auc: 0.9923 - val_loss: 0.1724 - val_auc: 0.9944 - lr: 6.3096e-07\n",
      "Epoch 86/100\n",
      "696/696 [==============================] - 419s 603ms/step - loss: 0.1941 - auc: 0.9928 - val_loss: 0.1723 - val_auc: 0.9944 - lr: 5.6234e-07\n",
      "Epoch 87/100\n",
      "696/696 [==============================] - 607s 873ms/step - loss: 0.1921 - auc: 0.9930 - val_loss: 0.1722 - val_auc: 0.9944 - lr: 5.0119e-07\n",
      "Epoch 88/100\n",
      "696/696 [==============================] - 481s 691ms/step - loss: 0.2011 - auc: 0.9922 - val_loss: 0.1729 - val_auc: 0.9944 - lr: 4.4668e-07\n",
      "Epoch 89/100\n",
      "696/696 [==============================] - 439s 631ms/step - loss: 0.2038 - auc: 0.9920 - val_loss: 0.1715 - val_auc: 0.9944 - lr: 3.9811e-07\n",
      "Epoch 90/100\n",
      "696/696 [==============================] - 439s 631ms/step - loss: 0.1978 - auc: 0.9925 - val_loss: 0.1755 - val_auc: 0.9943 - lr: 3.5481e-07\n",
      "Epoch 91/100\n",
      "696/696 [==============================] - 449s 644ms/step - loss: 0.1961 - auc: 0.9926 - val_loss: 0.1722 - val_auc: 0.9944 - lr: 2.5119e-07\n",
      "Epoch 94/100\n",
      "696/696 [==============================] - 397s 570ms/step - loss: 0.1968 - auc: 0.9925 - val_loss: 0.1721 - val_auc: 0.9944 - lr: 2.2387e-07\n",
      "Epoch 95/100\n",
      "696/696 [==============================] - 405s 583ms/step - loss: 0.1985 - auc: 0.9925 - val_loss: 0.1718 - val_auc: 0.9944 - lr: 1.5849e-07\n",
      "Epoch 98/100\n",
      "696/696 [==============================] - 391s 561ms/step - loss: 0.1997 - auc: 0.9922 - val_loss: 0.1718 - val_auc: 0.9944 - lr: 1.4125e-07\n",
      "Epoch 99/100\n",
      "696/696 [==============================] - 401s 575ms/step - loss: 0.1959 - auc: 0.9928 - val_loss: 0.1722 - val_auc: 0.9944 - lr: 1.2589e-07\n"
     ]
    }
   ],
   "source": [
    "history = model.fit(\n",
    "    train_ds,\n",
    "    validation_data=val_ds,\n",
    "    callbacks=[checkpoint_cb, early_stopping_cb, lr_scheduler],\n",
    "    epochs=EPOCHS\n",
    ")"
   ]
  },
  {
   "cell_type": "markdown",
   "id": "l2ic1vIg1qTb",
   "metadata": {
    "id": "l2ic1vIg1qTb"
   },
   "source": [
    "**testing with test data**"
   ]
  },
  {
   "cell_type": "code",
   "execution_count": 39,
   "id": "aa1edbbb-2bc2-4bf5-b936-29610bcf62e5",
   "metadata": {
    "colab": {
     "base_uri": "https://localhost:8080/"
    },
    "id": "aa1edbbb-2bc2-4bf5-b936-29610bcf62e5",
    "outputId": "caeb6902-80c2-4426-fafd-d937e1151990"
   },
   "outputs": [
    {
     "name": "stdout",
     "output_type": "stream",
     "text": [
      "100/100 [==============================] - 3s 34ms/step - loss: 0.1715 - auc: 0.9944\n"
     ]
    }
   ],
   "source": [
    "\n",
    "_ = model.evaluate(test_ds)\n"
   ]
  },
  {
   "cell_type": "code",
   "execution_count": 41,
   "id": "83d5b3d2-8ac5-467a-a3d1-94b5f0e77063",
   "metadata": {
    "colab": {
     "base_uri": "https://localhost:8080/",
     "height": 219
    },
    "id": "83d5b3d2-8ac5-467a-a3d1-94b5f0e77063",
    "outputId": "98b746e3-1f14-427e-bb24-7c57e6997ef6"
   },
   "outputs": [
    {
     "name": "stdout",
     "output_type": "stream",
     "text": [
      "Model saved successfully at: data/saved_models/alzheimer_model_merged_id1.h5\n"
     ]
    }
   ],
   "source": [
    "from tensorflow.keras.models import load_model, save_model\n",
    "\n",
    "# Assuming your model variable is named 'model'\n",
    "model_path = \"data/saved_models/alzheimer_model_merged_id1.h5\"\n",
    "save_model(model, model_path)\n",
    "\n",
    "print(\"Model saved successfully at:\", model_path)\n",
    "\n"
   ]
  },
  {
   "cell_type": "code",
   "execution_count": 47,
   "id": "edceb1d3-7ca1-4f1e-add0-3613f69b64f5",
   "metadata": {
    "id": "edceb1d3-7ca1-4f1e-add0-3613f69b64f5"
   },
   "outputs": [
    {
     "name": "stdout",
     "output_type": "stream",
     "text": [
      "100/100 [==============================] - 4s 35ms/step\n"
     ]
    },
    {
     "data": {
      "image/png": "[encoded data removed]",
      "text/plain": [
       "<Figure size 800x600 with 1 Axes>"
      ]
     },
     "metadata": {},
     "output_type": "display_data"
    }
   ],
   "source": [
    "from sklearn.metrics import roc_curve, auc\n",
    "import matplotlib.pyplot as plt\n",
    "import numpy as np\n",
    "\n",
    "# Make predictions on the test data\n",
    "predictions = model.predict(test_ds)\n",
    "\n",
    "# Extract true labels from test_ds\n",
    "true_labels = []\n",
    "for batch in test_ds:\n",
    "    true_labels.extend(batch[1].numpy())  # Assuming labels are in the second position of each batch\n",
    "\n",
    "# Calculate ROC curve and AUC for each class\n",
    "fpr = dict()\n",
    "tpr = dict()\n",
    "roc_auc = dict()\n",
    "num_classes = 4  # Assuming you have 4 classes\n",
    "for i in range(num_classes):\n",
    "    fpr[i], tpr[i], _ = roc_curve(np.array(true_labels)[:, i], predictions[:, i])\n",
    "    roc_auc[i] = auc(fpr[i], tpr[i])\n",
    "\n",
    "# Compute micro-average ROC curve and AUC\n",
    "fpr_micro, tpr_micro, _ = roc_curve(np.array(true_labels).ravel(), predictions.ravel())\n",
    "roc_auc_micro = auc(fpr_micro, tpr_micro)\n",
    "\n",
    "# Plot ROC curve for each class\n",
    "plt.figure(figsize=(8, 6))\n",
    "for i in range(num_classes):\n",
    "    plt.plot(fpr[i], tpr[i], label=f'ROC curve (class {i}) (AUC = {roc_auc[i]:.2f})')\n",
    "\n",
    "# Plot micro-average ROC curve\n",
    "plt.plot(fpr_micro, tpr_micro, label=f'Micro-average ROC curve (AUC = {roc_auc_micro:.2f})', linestyle='--')\n",
    "\n",
    "plt.plot([0, 1], [0, 1], 'k--', lw=2)  # Plot diagonal line\n",
    "plt.xlim([0.0, 1.0])\n",
    "plt.ylim([0.0, 1.05])\n",
    "plt.xlabel('False Positive Rate')\n",
    "plt.ylabel('True Positive Rate')\n",
    "plt.title('Receiver Operating Characteristic (ROC) Curve')\n",
    "plt.legend(loc=\"lower right\")\n",
    "plt.show()\n",
    "\n"
   ]
  },
  {
   "cell_type": "code",
   "execution_count": 48,
   "id": "6fbbc778-2e3e-45c4-8242-9c375d2decce",
   "metadata": {},
   "outputs": [
    {
     "name": "stdout",
     "output_type": "stream",
     "text": [
      "100/100 [==============================] - 3s 33ms/step\n"
     ]
    },
    {
     "data": {
      "image/png": "[encoded data removed]",
      "text/plain": [
       "<Figure size 800x600 with 1 Axes>"
      ]
     },
     "metadata": {},
     "output_type": "display_data"
    }
   ],
   "source": [
    "from sklearn.metrics import roc_curve, auc\n",
    "import matplotlib.pyplot as plt\n",
    "import numpy as np\n",
    "\n",
    "# Make predictions on the test data\n",
    "predictions = model.predict(test_ds)\n",
    "\n",
    "# Extract true labels from test_ds\n",
    "true_labels = []\n",
    "for batch in test_ds:\n",
    "    true_labels.extend(batch[1].numpy())  # Assuming labels are in the second position of each batch\n",
    "\n",
    "# Compute micro-average ROC curve and AUC\n",
    "fpr_micro, tpr_micro, _ = roc_curve(np.array(true_labels).ravel(), predictions.ravel())\n",
    "roc_auc_micro = auc(fpr_micro, tpr_micro)\n",
    "\n",
    "# Plot micro-average ROC curve\n",
    "plt.figure(figsize=(8, 6))\n",
    "plt.plot(fpr_micro, tpr_micro, label=f'Micro-average ROC curve (AUC = {roc_auc_micro:.2f})', linestyle='--')\n",
    "\n",
    "plt.plot([0, 1], [0, 1], 'k--', lw=2)  # Plot diagonal line\n",
    "plt.xlim([0.0, 1.0])\n",
    "plt.ylim([0.0, 1.05])\n",
    "plt.xlabel('False Positive Rate')\n",
    "plt.ylabel('True Positive Rate')\n",
    "plt.title('Receiver Operating Characteristic (ROC) Curve (Micro-average)')\n",
    "plt.legend(loc=\"lower right\")\n",
    "plt.show()\n",
    "\n"
   ]
  },
  {
   "cell_type": "code",
   "execution_count": 74,
   "id": "8e95947a-9770-4586-bbc3-d2013a4c368d",
   "metadata": {},
   "outputs": [
    {
     "name": "stdout",
     "output_type": "stream",
     "text": [
      "1/1 [==============================] - 0s 453ms/step\n",
      "Predicted class label: Non_Dementia\n",
      "Predicted class name: Non_Dementia\n",
      "Predicted class: Non_Dementia\n"
     ]
    }
   ],
   "source": [
    "from tensorflow.keras.models import load_model\n",
    "from tensorflow.keras.preprocessing import image\n",
    "import numpy as np\n",
    "# Define the path to the image you want to classify\n",
    "image_path = 'normal.jpg'\n",
    "\n",
    "# Load and preprocess the image\n",
    "img = image.load_img(image_path, target_size=(176,208))\n",
    "img_array = image.img_to_array(img)\n",
    "img_array = np.expand_dims(img_array, axis=0)  # Add batch dimension\n",
    "img_array /= 255.0  # Normalize pixel values to [0, 1]\n",
    "\n",
    "# Perform inference\n",
    "predictions = model.predict(img_array)\n",
    "\n",
    "# Convert the predicted probabilities to class labels\n",
    "predicted_class_index = np.argmax(predictions[0])\n",
    "predicted_class_label = class_names[predicted_class_index]\n",
    "\n",
    "# Print the predicted class label and class name\n",
    "print(\"Predicted class label:\", predicted_class_label)\n",
    "print(\"Predicted class name:\", class_names[predicted_class_index])\n",
    "# Print the predicted class label\n",
    "print(\"Predicted class:\", predicted_class_label)"
   ]
  },
  {
   "cell_type": "code",
   "execution_count": 62,
   "id": "c0f489c2-6aa9-4049-bdce-348bedd234c9",
   "metadata": {},
   "outputs": [
    {
     "name": "stdout",
     "output_type": "stream",
     "text": [
      "Class 3 is 'Very_Mild_Dementia'\n"
     ]
    }
   ],
   "source": [
    "\n",
    "# Create a dictionary to map class indices to class names\n",
    "class_index_to_name = {index: name for index, name in enumerate(class_names)}\n",
    "\n",
    "# Example usage: To find out the class name corresponding to class index 2 (Non_Dementia)\n",
    "class_index = 3\n",
    "class_name = class_index_to_name[class_index]\n",
    "print(f\"Class {class_index} is '{class_name}'\")"
   ]
  },
  {
   "cell_type": "code",
   "execution_count": null,
   "id": "Cbt5eytsGZMJ",
   "metadata": {
    "colab": {
     "base_uri": "https://localhost:8080/"
    },
    "id": "Cbt5eytsGZMJ",
    "outputId": "800e0eef-0298-4649-d6b0-8661ade4260a"
   },
   "outputs": [
    {
     "name": "stdout",
     "output_type": "stream",
     "text": [
      "Model: \"sequential_1\"\n",
      "_________________________________________________________________\n",
      " Layer (type)                Output Shape              Param #   \n",
      "=================================================================\n",
      " conv2d (Conv2D)             (None, 176, 208, 25)      250       \n",
      "                                                                 \n",
      " conv2d_1 (Conv2D)           (None, 176, 208, 75)      16950     \n",
      "                                                                 \n",
      " max_pooling2d (MaxPooling2  (None, 88, 104, 75)       0         \n",
      " D)                                                              \n",
      "                                                                 \n",
      " flatten (Flatten)           (None, 686400)            0         \n",
      "                                                                 \n",
      " dense (Dense)               (None, 500)               343200500 \n",
      "                                                                 \n",
      " dropout (Dropout)           (None, 500)               0         \n",
      "                                                                 \n",
      " dense_1 (Dense)             (None, 250)               125250    \n",
      "                                                                 \n",
      " dropout_1 (Dropout)         (None, 250)               0         \n",
      "                                                                 \n",
      " dense_2 (Dense)             (None, 100)               25100     \n",
      "                                                                 \n",
      " dense_3 (Dense)             (None, 4)                 404       \n",
      "                                                                 \n",
      "=================================================================\n",
      "Total params: 343368454 (1.28 GB)\n",
      "Trainable params: 343368454 (1.28 GB)\n",
      "Non-trainable params: 0 (0.00 Byte)\n",
      "_________________________________________________________________\n"
     ]
    }
   ],
   "source": [
    "\n",
    "# Define num_classes based on your problem\n",
    "\n",
    "# MODEL LAYERS\n",
    "model=Sequential()\n",
    "model.add(Conv2D(25, kernel_size=(3,3), strides=(1,1), padding='same', activation='relu', input_shape=(176, 208, 1)))\n",
    "model.add(Conv2D(75, kernel_size=(3,3), strides=(1,1), padding='same', activation='relu'))\n",
    "model.add(MaxPooling2D(pool_size=(2,2)))\n",
    "model.add(Flatten())\n",
    "model.add(Dense(500, activation='relu'))\n",
    "model.add(Dropout(0.25))\n",
    "model.add(Dense(250, activation='relu'))\n",
    "model.add(Dropout(0.25))\n",
    "model.add(Dense(100, activation='relu'))\n",
    "model.add(Dense(NUM_CLASSES, activation='softmax'))\n",
    "model.summary()\n",
    "\n",
    "# Compile the model\n",
    "model.compile(Adam(learning_rate=0.001), loss='categorical_crossentropy', metrics=['accuracy'])\n"
   ]
  },
  {
   "cell_type": "code",
   "execution_count": null,
   "id": "bsr-soO1IeLu",
   "metadata": {
    "id": "bsr-soO1IeLu"
   },
   "outputs": [],
   "source": [
    "def exponential_decay(lr0, s):\n",
    "    def exponential_decay_fn(epoch):\n",
    "        return lr0 * 0.1 **(epoch / s)\n",
    "    return exponential_decay_fn\n",
    "\n",
    "exponential_decay_fn = exponential_decay(0.01, 20)\n",
    "\n",
    "lr_scheduler = tf.keras.callbacks.LearningRateScheduler(exponential_decay_fn)\n",
    "\n",
    "checkpoint_cb = tf.keras.callbacks.ModelCheckpoint(\"alzheimer_model.h5\",\n",
    "                                                    save_best_only=True)\n",
    "\n",
    "early_stopping_cb = tf.keras.callbacks.EarlyStopping(patience=10,\n",
    "                                                     restore_best_weights=True)"
   ]
  },
  {
   "cell_type": "code",
   "execution_count": 49,
   "id": "2QnyCRDDlj28",
   "metadata": {
    "colab": {
     "base_uri": "https://localhost:8080/",
     "height": 426
    },
    "id": "2QnyCRDDlj28",
    "outputId": "84084ee0-8a32-42b6-aca7-2fa942775fe2"
   },
   "outputs": [],
   "source": [
    "# After training the model\n",
    "model.save(\"/content/drive/MyDrive/saved_models/alzheimer_model2.h5\")\n",
    "from tensorflow.keras.models import load_model\n",
    "\n",
    "# Load the saved model\n",
    "saved_model = load_model(\"/content/drive/MyDrive/saved_models/alzheimer_model2.h5\")\n",
    "\n"
   ]
  }
 ],
 "metadata": {
  "accelerator": "GPU",
  "colab": {
   "gpuType": "T4",
   "provenance": []
  },
  "kernelspec": {
   "display_name": "Python 3 (ipykernel)",
   "language": "python",
   "name": "python3"
  },
  "language_info": {
   "codemirror_mode": {
    "name": "ipython",
    "version": 3
   },
   "file_extension": ".py",
   "mimetype": "text/x-python",
   "name": "python",
   "nbconvert_exporter": "python",
   "pygments_lexer": "ipython3",
   "version": "3.8.19"
  }
 },
 "nbformat": 4,
 "nbformat_minor": 5
}
